{
 "cells": [
  {
   "cell_type": "markdown",
   "id": "f7c7dd90",
   "metadata": {},
   "source": [
    "### Identifying patients with a risk of cardio disease "
   ]
  },
  {
   "cell_type": "markdown",
   "id": "fd793cd5",
   "metadata": {},
   "source": []
  },
  {
   "cell_type": "code",
   "execution_count": 4,
   "id": "f776a649",
   "metadata": {
    "scrolled": true
   },
   "outputs": [],
   "source": [
    "import pandas as pd\n",
    "import numpy as np\n",
    "import matplotlib.pyplot as plt\n",
    "import seaborn as sns\n",
    "from sklearn.model_selection import train_test_split\n",
    "from sklearn.ensemble import RandomForestRegressor\n",
    "from sklearn.linear_model import LinearRegression\n",
    "from sklearn.linear_model import LogisticRegression\n",
    "from sklearn.preprocessing import StandardScaler\n",
    "from sklearn.inspection import permutation_importance\n",
    "import xgboost as xgb\n",
    "import shap\n",
    "from sklearn.metrics import accuracy_score"
   ]
  },
  {
   "cell_type": "code",
   "execution_count": 5,
   "id": "ab1c8856",
   "metadata": {},
   "outputs": [],
   "source": [
    "import shap"
   ]
  },
  {
   "cell_type": "code",
   "execution_count": 6,
   "id": "1cb554e7",
   "metadata": {},
   "outputs": [],
   "source": [
    "from sklearn.metrics import accuracy_score\n",
    "from sklearn.naive_bayes import BernoulliNB, GaussianNB"
   ]
  },
  {
   "cell_type": "code",
   "execution_count": 7,
   "id": "0b1d38f2",
   "metadata": {},
   "outputs": [],
   "source": [
    "from sklearn.neighbors import KNeighborsClassifier\n",
    "from sklearn.linear_model import LogisticRegression\n",
    "from sklearn.tree import DecisionTreeClassifier\n",
    "from sklearn.ensemble import RandomForestClassifier, ExtraTreesClassifier, VotingClassifier"
   ]
  },
  {
   "cell_type": "code",
   "execution_count": 10,
   "id": "f55e73f5",
   "metadata": {},
   "outputs": [],
   "source": [
    "from sklearn.metrics import precision_score, recall_score, f1_score"
   ]
  },
  {
   "cell_type": "code",
   "execution_count": 11,
   "id": "b31c9487",
   "metadata": {},
   "outputs": [],
   "source": [
    "from sklearn.metrics import confusion_matrix"
   ]
  },
  {
   "cell_type": "code",
   "execution_count": 345,
   "id": "e60544cd",
   "metadata": {},
   "outputs": [],
   "source": [
    "data=pd.read_csv('data1.csv')"
   ]
  },
  {
   "cell_type": "code",
   "execution_count": 346,
   "id": "de2027bc",
   "metadata": {},
   "outputs": [
    {
     "name": "stdout",
     "output_type": "stream",
     "text": [
      "<class 'pandas.core.frame.DataFrame'>\n",
      "RangeIndex: 70000 entries, 0 to 69999\n",
      "Data columns (total 14 columns):\n",
      " #   Column       Non-Null Count  Dtype  \n",
      "---  ------       --------------  -----  \n",
      " 0   id           70000 non-null  int64  \n",
      " 1   age_days     70000 non-null  int64  \n",
      " 2   age_year     70000 non-null  float64\n",
      " 3   gender       70000 non-null  int64  \n",
      " 4   height       70000 non-null  int64  \n",
      " 5   weight       70000 non-null  float64\n",
      " 6   ap_hi        70000 non-null  int64  \n",
      " 7   ap_lo        70000 non-null  int64  \n",
      " 8   cholesterol  70000 non-null  int64  \n",
      " 9   gluc         70000 non-null  int64  \n",
      " 10  smoke        70000 non-null  int64  \n",
      " 11  alco         70000 non-null  int64  \n",
      " 12  active       70000 non-null  int64  \n",
      " 13  cardio       70000 non-null  int64  \n",
      "dtypes: float64(2), int64(12)\n",
      "memory usage: 7.5 MB\n"
     ]
    }
   ],
   "source": [
    "data.info()"
   ]
  },
  {
   "cell_type": "code",
   "execution_count": 347,
   "id": "fcbfc191",
   "metadata": {
    "scrolled": true
   },
   "outputs": [
    {
     "data": {
      "text/html": [
       "<div>\n",
       "<style scoped>\n",
       "    .dataframe tbody tr th:only-of-type {\n",
       "        vertical-align: middle;\n",
       "    }\n",
       "\n",
       "    .dataframe tbody tr th {\n",
       "        vertical-align: top;\n",
       "    }\n",
       "\n",
       "    .dataframe thead th {\n",
       "        text-align: right;\n",
       "    }\n",
       "</style>\n",
       "<table border=\"1\" class=\"dataframe\">\n",
       "  <thead>\n",
       "    <tr style=\"text-align: right;\">\n",
       "      <th></th>\n",
       "      <th>id</th>\n",
       "      <th>age_days</th>\n",
       "      <th>age_year</th>\n",
       "      <th>gender</th>\n",
       "      <th>height</th>\n",
       "      <th>weight</th>\n",
       "      <th>ap_hi</th>\n",
       "      <th>ap_lo</th>\n",
       "      <th>cholesterol</th>\n",
       "      <th>gluc</th>\n",
       "      <th>smoke</th>\n",
       "      <th>alco</th>\n",
       "      <th>active</th>\n",
       "      <th>cardio</th>\n",
       "    </tr>\n",
       "  </thead>\n",
       "  <tbody>\n",
       "    <tr>\n",
       "      <th>count</th>\n",
       "      <td>70000.000000</td>\n",
       "      <td>70000.000000</td>\n",
       "      <td>70000.000000</td>\n",
       "      <td>70000.000000</td>\n",
       "      <td>70000.000000</td>\n",
       "      <td>70000.000000</td>\n",
       "      <td>70000.000000</td>\n",
       "      <td>70000.000000</td>\n",
       "      <td>70000.000000</td>\n",
       "      <td>70000.000000</td>\n",
       "      <td>70000.000000</td>\n",
       "      <td>70000.000000</td>\n",
       "      <td>70000.000000</td>\n",
       "      <td>70000.000000</td>\n",
       "    </tr>\n",
       "    <tr>\n",
       "      <th>mean</th>\n",
       "      <td>49972.419900</td>\n",
       "      <td>19468.865814</td>\n",
       "      <td>53.339358</td>\n",
       "      <td>1.349571</td>\n",
       "      <td>164.359229</td>\n",
       "      <td>74.205690</td>\n",
       "      <td>128.817286</td>\n",
       "      <td>96.630414</td>\n",
       "      <td>1.366871</td>\n",
       "      <td>1.226457</td>\n",
       "      <td>0.088129</td>\n",
       "      <td>0.053771</td>\n",
       "      <td>0.803729</td>\n",
       "      <td>0.499700</td>\n",
       "    </tr>\n",
       "    <tr>\n",
       "      <th>std</th>\n",
       "      <td>28851.302323</td>\n",
       "      <td>2467.251667</td>\n",
       "      <td>6.759594</td>\n",
       "      <td>0.476838</td>\n",
       "      <td>8.210126</td>\n",
       "      <td>14.395757</td>\n",
       "      <td>154.011419</td>\n",
       "      <td>188.472530</td>\n",
       "      <td>0.680250</td>\n",
       "      <td>0.572270</td>\n",
       "      <td>0.283484</td>\n",
       "      <td>0.225568</td>\n",
       "      <td>0.397179</td>\n",
       "      <td>0.500003</td>\n",
       "    </tr>\n",
       "    <tr>\n",
       "      <th>min</th>\n",
       "      <td>0.000000</td>\n",
       "      <td>10798.000000</td>\n",
       "      <td>29.583562</td>\n",
       "      <td>1.000000</td>\n",
       "      <td>55.000000</td>\n",
       "      <td>10.000000</td>\n",
       "      <td>-150.000000</td>\n",
       "      <td>-70.000000</td>\n",
       "      <td>1.000000</td>\n",
       "      <td>1.000000</td>\n",
       "      <td>0.000000</td>\n",
       "      <td>0.000000</td>\n",
       "      <td>0.000000</td>\n",
       "      <td>0.000000</td>\n",
       "    </tr>\n",
       "    <tr>\n",
       "      <th>25%</th>\n",
       "      <td>25006.750000</td>\n",
       "      <td>17664.000000</td>\n",
       "      <td>48.394521</td>\n",
       "      <td>1.000000</td>\n",
       "      <td>159.000000</td>\n",
       "      <td>65.000000</td>\n",
       "      <td>120.000000</td>\n",
       "      <td>80.000000</td>\n",
       "      <td>1.000000</td>\n",
       "      <td>1.000000</td>\n",
       "      <td>0.000000</td>\n",
       "      <td>0.000000</td>\n",
       "      <td>1.000000</td>\n",
       "      <td>0.000000</td>\n",
       "    </tr>\n",
       "    <tr>\n",
       "      <th>50%</th>\n",
       "      <td>50001.500000</td>\n",
       "      <td>19703.000000</td>\n",
       "      <td>53.980822</td>\n",
       "      <td>1.000000</td>\n",
       "      <td>165.000000</td>\n",
       "      <td>72.000000</td>\n",
       "      <td>120.000000</td>\n",
       "      <td>80.000000</td>\n",
       "      <td>1.000000</td>\n",
       "      <td>1.000000</td>\n",
       "      <td>0.000000</td>\n",
       "      <td>0.000000</td>\n",
       "      <td>1.000000</td>\n",
       "      <td>0.000000</td>\n",
       "    </tr>\n",
       "    <tr>\n",
       "      <th>75%</th>\n",
       "      <td>74889.250000</td>\n",
       "      <td>21327.000000</td>\n",
       "      <td>58.430137</td>\n",
       "      <td>2.000000</td>\n",
       "      <td>170.000000</td>\n",
       "      <td>82.000000</td>\n",
       "      <td>140.000000</td>\n",
       "      <td>90.000000</td>\n",
       "      <td>2.000000</td>\n",
       "      <td>1.000000</td>\n",
       "      <td>0.000000</td>\n",
       "      <td>0.000000</td>\n",
       "      <td>1.000000</td>\n",
       "      <td>1.000000</td>\n",
       "    </tr>\n",
       "    <tr>\n",
       "      <th>max</th>\n",
       "      <td>99999.000000</td>\n",
       "      <td>23713.000000</td>\n",
       "      <td>64.967123</td>\n",
       "      <td>2.000000</td>\n",
       "      <td>250.000000</td>\n",
       "      <td>200.000000</td>\n",
       "      <td>16020.000000</td>\n",
       "      <td>11000.000000</td>\n",
       "      <td>3.000000</td>\n",
       "      <td>3.000000</td>\n",
       "      <td>1.000000</td>\n",
       "      <td>1.000000</td>\n",
       "      <td>1.000000</td>\n",
       "      <td>1.000000</td>\n",
       "    </tr>\n",
       "  </tbody>\n",
       "</table>\n",
       "</div>"
      ],
      "text/plain": [
       "                 id      age_days      age_year        gender        height  \\\n",
       "count  70000.000000  70000.000000  70000.000000  70000.000000  70000.000000   \n",
       "mean   49972.419900  19468.865814     53.339358      1.349571    164.359229   \n",
       "std    28851.302323   2467.251667      6.759594      0.476838      8.210126   \n",
       "min        0.000000  10798.000000     29.583562      1.000000     55.000000   \n",
       "25%    25006.750000  17664.000000     48.394521      1.000000    159.000000   \n",
       "50%    50001.500000  19703.000000     53.980822      1.000000    165.000000   \n",
       "75%    74889.250000  21327.000000     58.430137      2.000000    170.000000   \n",
       "max    99999.000000  23713.000000     64.967123      2.000000    250.000000   \n",
       "\n",
       "             weight         ap_hi         ap_lo   cholesterol          gluc  \\\n",
       "count  70000.000000  70000.000000  70000.000000  70000.000000  70000.000000   \n",
       "mean      74.205690    128.817286     96.630414      1.366871      1.226457   \n",
       "std       14.395757    154.011419    188.472530      0.680250      0.572270   \n",
       "min       10.000000   -150.000000    -70.000000      1.000000      1.000000   \n",
       "25%       65.000000    120.000000     80.000000      1.000000      1.000000   \n",
       "50%       72.000000    120.000000     80.000000      1.000000      1.000000   \n",
       "75%       82.000000    140.000000     90.000000      2.000000      1.000000   \n",
       "max      200.000000  16020.000000  11000.000000      3.000000      3.000000   \n",
       "\n",
       "              smoke          alco        active        cardio  \n",
       "count  70000.000000  70000.000000  70000.000000  70000.000000  \n",
       "mean       0.088129      0.053771      0.803729      0.499700  \n",
       "std        0.283484      0.225568      0.397179      0.500003  \n",
       "min        0.000000      0.000000      0.000000      0.000000  \n",
       "25%        0.000000      0.000000      1.000000      0.000000  \n",
       "50%        0.000000      0.000000      1.000000      0.000000  \n",
       "75%        0.000000      0.000000      1.000000      1.000000  \n",
       "max        1.000000      1.000000      1.000000      1.000000  "
      ]
     },
     "execution_count": 347,
     "metadata": {},
     "output_type": "execute_result"
    }
   ],
   "source": [
    "data.describe()"
   ]
  },
  {
   "cell_type": "code",
   "execution_count": 348,
   "id": "d3adb9e0",
   "metadata": {
    "scrolled": true
   },
   "outputs": [
    {
     "data": {
      "text/html": [
       "<div>\n",
       "<style scoped>\n",
       "    .dataframe tbody tr th:only-of-type {\n",
       "        vertical-align: middle;\n",
       "    }\n",
       "\n",
       "    .dataframe tbody tr th {\n",
       "        vertical-align: top;\n",
       "    }\n",
       "\n",
       "    .dataframe thead th {\n",
       "        text-align: right;\n",
       "    }\n",
       "</style>\n",
       "<table border=\"1\" class=\"dataframe\">\n",
       "  <thead>\n",
       "    <tr style=\"text-align: right;\">\n",
       "      <th></th>\n",
       "      <th>id</th>\n",
       "      <th>age_days</th>\n",
       "      <th>age_year</th>\n",
       "      <th>gender</th>\n",
       "      <th>height</th>\n",
       "      <th>weight</th>\n",
       "      <th>ap_hi</th>\n",
       "      <th>ap_lo</th>\n",
       "      <th>cholesterol</th>\n",
       "      <th>gluc</th>\n",
       "      <th>smoke</th>\n",
       "      <th>alco</th>\n",
       "      <th>active</th>\n",
       "      <th>cardio</th>\n",
       "    </tr>\n",
       "  </thead>\n",
       "  <tbody>\n",
       "    <tr>\n",
       "      <th>0</th>\n",
       "      <td>0</td>\n",
       "      <td>18393</td>\n",
       "      <td>50.391781</td>\n",
       "      <td>2</td>\n",
       "      <td>168</td>\n",
       "      <td>62.0</td>\n",
       "      <td>110</td>\n",
       "      <td>80</td>\n",
       "      <td>1</td>\n",
       "      <td>1</td>\n",
       "      <td>0</td>\n",
       "      <td>0</td>\n",
       "      <td>1</td>\n",
       "      <td>0</td>\n",
       "    </tr>\n",
       "    <tr>\n",
       "      <th>1</th>\n",
       "      <td>1</td>\n",
       "      <td>20228</td>\n",
       "      <td>55.419178</td>\n",
       "      <td>1</td>\n",
       "      <td>156</td>\n",
       "      <td>85.0</td>\n",
       "      <td>140</td>\n",
       "      <td>90</td>\n",
       "      <td>3</td>\n",
       "      <td>1</td>\n",
       "      <td>0</td>\n",
       "      <td>0</td>\n",
       "      <td>1</td>\n",
       "      <td>1</td>\n",
       "    </tr>\n",
       "    <tr>\n",
       "      <th>2</th>\n",
       "      <td>2</td>\n",
       "      <td>18857</td>\n",
       "      <td>51.663014</td>\n",
       "      <td>1</td>\n",
       "      <td>165</td>\n",
       "      <td>64.0</td>\n",
       "      <td>130</td>\n",
       "      <td>70</td>\n",
       "      <td>3</td>\n",
       "      <td>1</td>\n",
       "      <td>0</td>\n",
       "      <td>0</td>\n",
       "      <td>0</td>\n",
       "      <td>1</td>\n",
       "    </tr>\n",
       "    <tr>\n",
       "      <th>3</th>\n",
       "      <td>3</td>\n",
       "      <td>17623</td>\n",
       "      <td>48.282192</td>\n",
       "      <td>2</td>\n",
       "      <td>169</td>\n",
       "      <td>82.0</td>\n",
       "      <td>150</td>\n",
       "      <td>100</td>\n",
       "      <td>1</td>\n",
       "      <td>1</td>\n",
       "      <td>0</td>\n",
       "      <td>0</td>\n",
       "      <td>1</td>\n",
       "      <td>1</td>\n",
       "    </tr>\n",
       "    <tr>\n",
       "      <th>4</th>\n",
       "      <td>4</td>\n",
       "      <td>17474</td>\n",
       "      <td>47.873973</td>\n",
       "      <td>1</td>\n",
       "      <td>156</td>\n",
       "      <td>56.0</td>\n",
       "      <td>100</td>\n",
       "      <td>60</td>\n",
       "      <td>1</td>\n",
       "      <td>1</td>\n",
       "      <td>0</td>\n",
       "      <td>0</td>\n",
       "      <td>0</td>\n",
       "      <td>0</td>\n",
       "    </tr>\n",
       "    <tr>\n",
       "      <th>5</th>\n",
       "      <td>8</td>\n",
       "      <td>21914</td>\n",
       "      <td>60.038356</td>\n",
       "      <td>1</td>\n",
       "      <td>151</td>\n",
       "      <td>67.0</td>\n",
       "      <td>120</td>\n",
       "      <td>80</td>\n",
       "      <td>2</td>\n",
       "      <td>2</td>\n",
       "      <td>0</td>\n",
       "      <td>0</td>\n",
       "      <td>0</td>\n",
       "      <td>0</td>\n",
       "    </tr>\n",
       "    <tr>\n",
       "      <th>6</th>\n",
       "      <td>9</td>\n",
       "      <td>22113</td>\n",
       "      <td>60.583562</td>\n",
       "      <td>1</td>\n",
       "      <td>157</td>\n",
       "      <td>93.0</td>\n",
       "      <td>130</td>\n",
       "      <td>80</td>\n",
       "      <td>3</td>\n",
       "      <td>1</td>\n",
       "      <td>0</td>\n",
       "      <td>0</td>\n",
       "      <td>1</td>\n",
       "      <td>0</td>\n",
       "    </tr>\n",
       "    <tr>\n",
       "      <th>7</th>\n",
       "      <td>12</td>\n",
       "      <td>22584</td>\n",
       "      <td>61.873973</td>\n",
       "      <td>2</td>\n",
       "      <td>178</td>\n",
       "      <td>95.0</td>\n",
       "      <td>130</td>\n",
       "      <td>90</td>\n",
       "      <td>3</td>\n",
       "      <td>3</td>\n",
       "      <td>0</td>\n",
       "      <td>0</td>\n",
       "      <td>1</td>\n",
       "      <td>1</td>\n",
       "    </tr>\n",
       "    <tr>\n",
       "      <th>8</th>\n",
       "      <td>13</td>\n",
       "      <td>17668</td>\n",
       "      <td>48.405479</td>\n",
       "      <td>1</td>\n",
       "      <td>158</td>\n",
       "      <td>71.0</td>\n",
       "      <td>110</td>\n",
       "      <td>70</td>\n",
       "      <td>1</td>\n",
       "      <td>1</td>\n",
       "      <td>0</td>\n",
       "      <td>0</td>\n",
       "      <td>1</td>\n",
       "      <td>0</td>\n",
       "    </tr>\n",
       "    <tr>\n",
       "      <th>9</th>\n",
       "      <td>14</td>\n",
       "      <td>19834</td>\n",
       "      <td>54.339726</td>\n",
       "      <td>1</td>\n",
       "      <td>164</td>\n",
       "      <td>68.0</td>\n",
       "      <td>110</td>\n",
       "      <td>60</td>\n",
       "      <td>1</td>\n",
       "      <td>1</td>\n",
       "      <td>0</td>\n",
       "      <td>0</td>\n",
       "      <td>0</td>\n",
       "      <td>0</td>\n",
       "    </tr>\n",
       "  </tbody>\n",
       "</table>\n",
       "</div>"
      ],
      "text/plain": [
       "   id  age_days   age_year  gender  height  weight  ap_hi  ap_lo  cholesterol  \\\n",
       "0   0     18393  50.391781       2     168    62.0    110     80            1   \n",
       "1   1     20228  55.419178       1     156    85.0    140     90            3   \n",
       "2   2     18857  51.663014       1     165    64.0    130     70            3   \n",
       "3   3     17623  48.282192       2     169    82.0    150    100            1   \n",
       "4   4     17474  47.873973       1     156    56.0    100     60            1   \n",
       "5   8     21914  60.038356       1     151    67.0    120     80            2   \n",
       "6   9     22113  60.583562       1     157    93.0    130     80            3   \n",
       "7  12     22584  61.873973       2     178    95.0    130     90            3   \n",
       "8  13     17668  48.405479       1     158    71.0    110     70            1   \n",
       "9  14     19834  54.339726       1     164    68.0    110     60            1   \n",
       "\n",
       "   gluc  smoke  alco  active  cardio  \n",
       "0     1      0     0       1       0  \n",
       "1     1      0     0       1       1  \n",
       "2     1      0     0       0       1  \n",
       "3     1      0     0       1       1  \n",
       "4     1      0     0       0       0  \n",
       "5     2      0     0       0       0  \n",
       "6     1      0     0       1       0  \n",
       "7     3      0     0       1       1  \n",
       "8     1      0     0       1       0  \n",
       "9     1      0     0       0       0  "
      ]
     },
     "execution_count": 348,
     "metadata": {},
     "output_type": "execute_result"
    }
   ],
   "source": [
    "data.head(10)"
   ]
  },
  {
   "cell_type": "code",
   "execution_count": 349,
   "id": "af852513",
   "metadata": {},
   "outputs": [],
   "source": [
    "data.rename(columns={'age_year':'age','ap_hi':'systolic_blood_pressure','ap_lo':'diastolic_blood_pressure',\n",
    "                     'gluc':'glucose_level','smoke':'smoker', 'alco':'alcohol_consump',\n",
    "                     'active':'physical_activity', 'cardio':'heart_disease'}, inplace=True)"
   ]
  },
  {
   "cell_type": "code",
   "execution_count": 350,
   "id": "5b3a01b8",
   "metadata": {},
   "outputs": [
    {
     "data": {
      "text/html": [
       "<div>\n",
       "<style scoped>\n",
       "    .dataframe tbody tr th:only-of-type {\n",
       "        vertical-align: middle;\n",
       "    }\n",
       "\n",
       "    .dataframe tbody tr th {\n",
       "        vertical-align: top;\n",
       "    }\n",
       "\n",
       "    .dataframe thead th {\n",
       "        text-align: right;\n",
       "    }\n",
       "</style>\n",
       "<table border=\"1\" class=\"dataframe\">\n",
       "  <thead>\n",
       "    <tr style=\"text-align: right;\">\n",
       "      <th></th>\n",
       "      <th>id</th>\n",
       "      <th>age_days</th>\n",
       "      <th>age</th>\n",
       "      <th>gender</th>\n",
       "      <th>height</th>\n",
       "      <th>weight</th>\n",
       "      <th>systolic_blood_pressure</th>\n",
       "      <th>diastolic_blood_pressure</th>\n",
       "      <th>cholesterol</th>\n",
       "      <th>glucose_level</th>\n",
       "      <th>smoker</th>\n",
       "      <th>alcohol_consump</th>\n",
       "      <th>physical_activity</th>\n",
       "      <th>heart_disease</th>\n",
       "    </tr>\n",
       "  </thead>\n",
       "  <tbody>\n",
       "    <tr>\n",
       "      <th>0</th>\n",
       "      <td>0</td>\n",
       "      <td>18393</td>\n",
       "      <td>50.391781</td>\n",
       "      <td>2</td>\n",
       "      <td>168</td>\n",
       "      <td>62.0</td>\n",
       "      <td>110</td>\n",
       "      <td>80</td>\n",
       "      <td>1</td>\n",
       "      <td>1</td>\n",
       "      <td>0</td>\n",
       "      <td>0</td>\n",
       "      <td>1</td>\n",
       "      <td>0</td>\n",
       "    </tr>\n",
       "    <tr>\n",
       "      <th>1</th>\n",
       "      <td>1</td>\n",
       "      <td>20228</td>\n",
       "      <td>55.419178</td>\n",
       "      <td>1</td>\n",
       "      <td>156</td>\n",
       "      <td>85.0</td>\n",
       "      <td>140</td>\n",
       "      <td>90</td>\n",
       "      <td>3</td>\n",
       "      <td>1</td>\n",
       "      <td>0</td>\n",
       "      <td>0</td>\n",
       "      <td>1</td>\n",
       "      <td>1</td>\n",
       "    </tr>\n",
       "    <tr>\n",
       "      <th>2</th>\n",
       "      <td>2</td>\n",
       "      <td>18857</td>\n",
       "      <td>51.663014</td>\n",
       "      <td>1</td>\n",
       "      <td>165</td>\n",
       "      <td>64.0</td>\n",
       "      <td>130</td>\n",
       "      <td>70</td>\n",
       "      <td>3</td>\n",
       "      <td>1</td>\n",
       "      <td>0</td>\n",
       "      <td>0</td>\n",
       "      <td>0</td>\n",
       "      <td>1</td>\n",
       "    </tr>\n",
       "    <tr>\n",
       "      <th>3</th>\n",
       "      <td>3</td>\n",
       "      <td>17623</td>\n",
       "      <td>48.282192</td>\n",
       "      <td>2</td>\n",
       "      <td>169</td>\n",
       "      <td>82.0</td>\n",
       "      <td>150</td>\n",
       "      <td>100</td>\n",
       "      <td>1</td>\n",
       "      <td>1</td>\n",
       "      <td>0</td>\n",
       "      <td>0</td>\n",
       "      <td>1</td>\n",
       "      <td>1</td>\n",
       "    </tr>\n",
       "    <tr>\n",
       "      <th>4</th>\n",
       "      <td>4</td>\n",
       "      <td>17474</td>\n",
       "      <td>47.873973</td>\n",
       "      <td>1</td>\n",
       "      <td>156</td>\n",
       "      <td>56.0</td>\n",
       "      <td>100</td>\n",
       "      <td>60</td>\n",
       "      <td>1</td>\n",
       "      <td>1</td>\n",
       "      <td>0</td>\n",
       "      <td>0</td>\n",
       "      <td>0</td>\n",
       "      <td>0</td>\n",
       "    </tr>\n",
       "  </tbody>\n",
       "</table>\n",
       "</div>"
      ],
      "text/plain": [
       "   id  age_days        age  gender  height  weight  systolic_blood_pressure  \\\n",
       "0   0     18393  50.391781       2     168    62.0                      110   \n",
       "1   1     20228  55.419178       1     156    85.0                      140   \n",
       "2   2     18857  51.663014       1     165    64.0                      130   \n",
       "3   3     17623  48.282192       2     169    82.0                      150   \n",
       "4   4     17474  47.873973       1     156    56.0                      100   \n",
       "\n",
       "   diastolic_blood_pressure  cholesterol  glucose_level  smoker  \\\n",
       "0                        80            1              1       0   \n",
       "1                        90            3              1       0   \n",
       "2                        70            3              1       0   \n",
       "3                       100            1              1       0   \n",
       "4                        60            1              1       0   \n",
       "\n",
       "   alcohol_consump  physical_activity  heart_disease  \n",
       "0                0                  1              0  \n",
       "1                0                  1              1  \n",
       "2                0                  0              1  \n",
       "3                0                  1              1  \n",
       "4                0                  0              0  "
      ]
     },
     "execution_count": 350,
     "metadata": {},
     "output_type": "execute_result"
    }
   ],
   "source": [
    "data.head()"
   ]
  },
  {
   "cell_type": "code",
   "execution_count": 351,
   "id": "b137352d",
   "metadata": {},
   "outputs": [],
   "source": [
    "data = data.drop('age_days',1)\n"
   ]
  },
  {
   "cell_type": "code",
   "execution_count": 352,
   "id": "36e6ed62",
   "metadata": {},
   "outputs": [],
   "source": [
    "data = data.drop('id',1)"
   ]
  },
  {
   "cell_type": "code",
   "execution_count": 353,
   "id": "eb69a2ee",
   "metadata": {
    "scrolled": true
   },
   "outputs": [
    {
     "data": {
      "text/html": [
       "<div>\n",
       "<style scoped>\n",
       "    .dataframe tbody tr th:only-of-type {\n",
       "        vertical-align: middle;\n",
       "    }\n",
       "\n",
       "    .dataframe tbody tr th {\n",
       "        vertical-align: top;\n",
       "    }\n",
       "\n",
       "    .dataframe thead th {\n",
       "        text-align: right;\n",
       "    }\n",
       "</style>\n",
       "<table border=\"1\" class=\"dataframe\">\n",
       "  <thead>\n",
       "    <tr style=\"text-align: right;\">\n",
       "      <th></th>\n",
       "      <th>age</th>\n",
       "      <th>gender</th>\n",
       "      <th>height</th>\n",
       "      <th>weight</th>\n",
       "      <th>systolic_blood_pressure</th>\n",
       "      <th>diastolic_blood_pressure</th>\n",
       "      <th>cholesterol</th>\n",
       "      <th>glucose_level</th>\n",
       "      <th>smoker</th>\n",
       "      <th>alcohol_consump</th>\n",
       "      <th>physical_activity</th>\n",
       "      <th>heart_disease</th>\n",
       "    </tr>\n",
       "  </thead>\n",
       "  <tbody>\n",
       "    <tr>\n",
       "      <th>0</th>\n",
       "      <td>50.391781</td>\n",
       "      <td>2</td>\n",
       "      <td>168</td>\n",
       "      <td>62.0</td>\n",
       "      <td>110</td>\n",
       "      <td>80</td>\n",
       "      <td>1</td>\n",
       "      <td>1</td>\n",
       "      <td>0</td>\n",
       "      <td>0</td>\n",
       "      <td>1</td>\n",
       "      <td>0</td>\n",
       "    </tr>\n",
       "    <tr>\n",
       "      <th>1</th>\n",
       "      <td>55.419178</td>\n",
       "      <td>1</td>\n",
       "      <td>156</td>\n",
       "      <td>85.0</td>\n",
       "      <td>140</td>\n",
       "      <td>90</td>\n",
       "      <td>3</td>\n",
       "      <td>1</td>\n",
       "      <td>0</td>\n",
       "      <td>0</td>\n",
       "      <td>1</td>\n",
       "      <td>1</td>\n",
       "    </tr>\n",
       "    <tr>\n",
       "      <th>2</th>\n",
       "      <td>51.663014</td>\n",
       "      <td>1</td>\n",
       "      <td>165</td>\n",
       "      <td>64.0</td>\n",
       "      <td>130</td>\n",
       "      <td>70</td>\n",
       "      <td>3</td>\n",
       "      <td>1</td>\n",
       "      <td>0</td>\n",
       "      <td>0</td>\n",
       "      <td>0</td>\n",
       "      <td>1</td>\n",
       "    </tr>\n",
       "    <tr>\n",
       "      <th>3</th>\n",
       "      <td>48.282192</td>\n",
       "      <td>2</td>\n",
       "      <td>169</td>\n",
       "      <td>82.0</td>\n",
       "      <td>150</td>\n",
       "      <td>100</td>\n",
       "      <td>1</td>\n",
       "      <td>1</td>\n",
       "      <td>0</td>\n",
       "      <td>0</td>\n",
       "      <td>1</td>\n",
       "      <td>1</td>\n",
       "    </tr>\n",
       "    <tr>\n",
       "      <th>4</th>\n",
       "      <td>47.873973</td>\n",
       "      <td>1</td>\n",
       "      <td>156</td>\n",
       "      <td>56.0</td>\n",
       "      <td>100</td>\n",
       "      <td>60</td>\n",
       "      <td>1</td>\n",
       "      <td>1</td>\n",
       "      <td>0</td>\n",
       "      <td>0</td>\n",
       "      <td>0</td>\n",
       "      <td>0</td>\n",
       "    </tr>\n",
       "  </tbody>\n",
       "</table>\n",
       "</div>"
      ],
      "text/plain": [
       "         age  gender  height  weight  systolic_blood_pressure  \\\n",
       "0  50.391781       2     168    62.0                      110   \n",
       "1  55.419178       1     156    85.0                      140   \n",
       "2  51.663014       1     165    64.0                      130   \n",
       "3  48.282192       2     169    82.0                      150   \n",
       "4  47.873973       1     156    56.0                      100   \n",
       "\n",
       "   diastolic_blood_pressure  cholesterol  glucose_level  smoker  \\\n",
       "0                        80            1              1       0   \n",
       "1                        90            3              1       0   \n",
       "2                        70            3              1       0   \n",
       "3                       100            1              1       0   \n",
       "4                        60            1              1       0   \n",
       "\n",
       "   alcohol_consump  physical_activity  heart_disease  \n",
       "0                0                  1              0  \n",
       "1                0                  1              1  \n",
       "2                0                  0              1  \n",
       "3                0                  1              1  \n",
       "4                0                  0              0  "
      ]
     },
     "execution_count": 353,
     "metadata": {},
     "output_type": "execute_result"
    }
   ],
   "source": [
    "data.head()"
   ]
  },
  {
   "cell_type": "code",
   "execution_count": 272,
   "id": "fc5c78f2",
   "metadata": {
    "scrolled": true
   },
   "outputs": [],
   "source": [
    "#Transform variable age to integer without the decimal part\n",
    "\n",
    "data['age']=data['age'].apply(lambda x: round(x,1))"
   ]
  },
  {
   "cell_type": "code",
   "execution_count": 273,
   "id": "cc98c32c",
   "metadata": {},
   "outputs": [],
   "source": [
    "#Transform variable height from sentimeter to foot\n",
    "\n",
    "#data['height']=data['height'].apply(lambda x: round(x/30.48,1))"
   ]
  },
  {
   "cell_type": "code",
   "execution_count": 274,
   "id": "c089095f",
   "metadata": {},
   "outputs": [],
   "source": [
    "#Transform variable weight from kg to lbs\n",
    "\n",
    "#data['weight']= data['weight'].apply(lambda x: round(x*2.205,1))\n"
   ]
  },
  {
   "cell_type": "code",
   "execution_count": 354,
   "id": "c214b22f",
   "metadata": {},
   "outputs": [],
   "source": [
    "#Creating new column for Body Index\n",
    "data['BMI']=data['weight']/(data['height']/100)**2"
   ]
  },
  {
   "cell_type": "code",
   "execution_count": 356,
   "id": "fddb58ba",
   "metadata": {},
   "outputs": [],
   "source": [
    "#For BMI below 25 we will arrange 0 - healthy range , for BMI higher 25 - we will arrange 1 - overweight\n",
    "data['BMI']=data.BMI.apply(lambda x: 1 if x>=25 else 0)"
   ]
  },
  {
   "cell_type": "code",
   "execution_count": 357,
   "id": "c0927058",
   "metadata": {
    "scrolled": true
   },
   "outputs": [
    {
     "data": {
      "text/html": [
       "<div>\n",
       "<style scoped>\n",
       "    .dataframe tbody tr th:only-of-type {\n",
       "        vertical-align: middle;\n",
       "    }\n",
       "\n",
       "    .dataframe tbody tr th {\n",
       "        vertical-align: top;\n",
       "    }\n",
       "\n",
       "    .dataframe thead th {\n",
       "        text-align: right;\n",
       "    }\n",
       "</style>\n",
       "<table border=\"1\" class=\"dataframe\">\n",
       "  <thead>\n",
       "    <tr style=\"text-align: right;\">\n",
       "      <th></th>\n",
       "      <th>age</th>\n",
       "      <th>gender</th>\n",
       "      <th>height</th>\n",
       "      <th>weight</th>\n",
       "      <th>systolic_blood_pressure</th>\n",
       "      <th>diastolic_blood_pressure</th>\n",
       "      <th>cholesterol</th>\n",
       "      <th>glucose_level</th>\n",
       "      <th>smoker</th>\n",
       "      <th>alcohol_consump</th>\n",
       "      <th>physical_activity</th>\n",
       "      <th>heart_disease</th>\n",
       "      <th>BMI</th>\n",
       "    </tr>\n",
       "  </thead>\n",
       "  <tbody>\n",
       "    <tr>\n",
       "      <th>0</th>\n",
       "      <td>50.391781</td>\n",
       "      <td>2</td>\n",
       "      <td>168</td>\n",
       "      <td>62.0</td>\n",
       "      <td>110</td>\n",
       "      <td>80</td>\n",
       "      <td>1</td>\n",
       "      <td>1</td>\n",
       "      <td>0</td>\n",
       "      <td>0</td>\n",
       "      <td>1</td>\n",
       "      <td>0</td>\n",
       "      <td>0</td>\n",
       "    </tr>\n",
       "    <tr>\n",
       "      <th>1</th>\n",
       "      <td>55.419178</td>\n",
       "      <td>1</td>\n",
       "      <td>156</td>\n",
       "      <td>85.0</td>\n",
       "      <td>140</td>\n",
       "      <td>90</td>\n",
       "      <td>3</td>\n",
       "      <td>1</td>\n",
       "      <td>0</td>\n",
       "      <td>0</td>\n",
       "      <td>1</td>\n",
       "      <td>1</td>\n",
       "      <td>1</td>\n",
       "    </tr>\n",
       "    <tr>\n",
       "      <th>2</th>\n",
       "      <td>51.663014</td>\n",
       "      <td>1</td>\n",
       "      <td>165</td>\n",
       "      <td>64.0</td>\n",
       "      <td>130</td>\n",
       "      <td>70</td>\n",
       "      <td>3</td>\n",
       "      <td>1</td>\n",
       "      <td>0</td>\n",
       "      <td>0</td>\n",
       "      <td>0</td>\n",
       "      <td>1</td>\n",
       "      <td>0</td>\n",
       "    </tr>\n",
       "  </tbody>\n",
       "</table>\n",
       "</div>"
      ],
      "text/plain": [
       "         age  gender  height  weight  systolic_blood_pressure  \\\n",
       "0  50.391781       2     168    62.0                      110   \n",
       "1  55.419178       1     156    85.0                      140   \n",
       "2  51.663014       1     165    64.0                      130   \n",
       "\n",
       "   diastolic_blood_pressure  cholesterol  glucose_level  smoker  \\\n",
       "0                        80            1              1       0   \n",
       "1                        90            3              1       0   \n",
       "2                        70            3              1       0   \n",
       "\n",
       "   alcohol_consump  physical_activity  heart_disease  BMI  \n",
       "0                0                  1              0    0  \n",
       "1                0                  1              1    1  \n",
       "2                0                  0              1    0  "
      ]
     },
     "execution_count": 357,
     "metadata": {},
     "output_type": "execute_result"
    }
   ],
   "source": [
    "data.head(3)"
   ]
  },
  {
   "cell_type": "code",
   "execution_count": 363,
   "id": "80d3d820",
   "metadata": {},
   "outputs": [],
   "source": [
    "data= data.drop('weight',1)\n"
   ]
  },
  {
   "cell_type": "code",
   "execution_count": 364,
   "id": "82dccc16",
   "metadata": {},
   "outputs": [],
   "source": [
    "data= data.drop('height',1)"
   ]
  },
  {
   "cell_type": "code",
   "execution_count": 367,
   "id": "080c7f48",
   "metadata": {},
   "outputs": [],
   "source": [
    "data=data[['age','gender','BMI','systolic_blood_pressure','diastolic_blood_pressure','cholesterol','glucose_level','smoker','alcohol_consump','physical_activity','heart_disease']]"
   ]
  },
  {
   "cell_type": "code",
   "execution_count": 368,
   "id": "aa89d566",
   "metadata": {},
   "outputs": [
    {
     "data": {
      "text/html": [
       "<div>\n",
       "<style scoped>\n",
       "    .dataframe tbody tr th:only-of-type {\n",
       "        vertical-align: middle;\n",
       "    }\n",
       "\n",
       "    .dataframe tbody tr th {\n",
       "        vertical-align: top;\n",
       "    }\n",
       "\n",
       "    .dataframe thead th {\n",
       "        text-align: right;\n",
       "    }\n",
       "</style>\n",
       "<table border=\"1\" class=\"dataframe\">\n",
       "  <thead>\n",
       "    <tr style=\"text-align: right;\">\n",
       "      <th></th>\n",
       "      <th>age</th>\n",
       "      <th>gender</th>\n",
       "      <th>BMI</th>\n",
       "      <th>systolic_blood_pressure</th>\n",
       "      <th>diastolic_blood_pressure</th>\n",
       "      <th>cholesterol</th>\n",
       "      <th>glucose_level</th>\n",
       "      <th>smoker</th>\n",
       "      <th>alcohol_consump</th>\n",
       "      <th>physical_activity</th>\n",
       "      <th>heart_disease</th>\n",
       "    </tr>\n",
       "  </thead>\n",
       "  <tbody>\n",
       "    <tr>\n",
       "      <th>0</th>\n",
       "      <td>50.391781</td>\n",
       "      <td>2</td>\n",
       "      <td>0</td>\n",
       "      <td>110</td>\n",
       "      <td>80</td>\n",
       "      <td>1</td>\n",
       "      <td>1</td>\n",
       "      <td>0</td>\n",
       "      <td>0</td>\n",
       "      <td>1</td>\n",
       "      <td>0</td>\n",
       "    </tr>\n",
       "    <tr>\n",
       "      <th>1</th>\n",
       "      <td>55.419178</td>\n",
       "      <td>1</td>\n",
       "      <td>1</td>\n",
       "      <td>140</td>\n",
       "      <td>90</td>\n",
       "      <td>3</td>\n",
       "      <td>1</td>\n",
       "      <td>0</td>\n",
       "      <td>0</td>\n",
       "      <td>1</td>\n",
       "      <td>1</td>\n",
       "    </tr>\n",
       "    <tr>\n",
       "      <th>2</th>\n",
       "      <td>51.663014</td>\n",
       "      <td>1</td>\n",
       "      <td>0</td>\n",
       "      <td>130</td>\n",
       "      <td>70</td>\n",
       "      <td>3</td>\n",
       "      <td>1</td>\n",
       "      <td>0</td>\n",
       "      <td>0</td>\n",
       "      <td>0</td>\n",
       "      <td>1</td>\n",
       "    </tr>\n",
       "    <tr>\n",
       "      <th>3</th>\n",
       "      <td>48.282192</td>\n",
       "      <td>2</td>\n",
       "      <td>1</td>\n",
       "      <td>150</td>\n",
       "      <td>100</td>\n",
       "      <td>1</td>\n",
       "      <td>1</td>\n",
       "      <td>0</td>\n",
       "      <td>0</td>\n",
       "      <td>1</td>\n",
       "      <td>1</td>\n",
       "    </tr>\n",
       "    <tr>\n",
       "      <th>4</th>\n",
       "      <td>47.873973</td>\n",
       "      <td>1</td>\n",
       "      <td>0</td>\n",
       "      <td>100</td>\n",
       "      <td>60</td>\n",
       "      <td>1</td>\n",
       "      <td>1</td>\n",
       "      <td>0</td>\n",
       "      <td>0</td>\n",
       "      <td>0</td>\n",
       "      <td>0</td>\n",
       "    </tr>\n",
       "  </tbody>\n",
       "</table>\n",
       "</div>"
      ],
      "text/plain": [
       "         age  gender  BMI  systolic_blood_pressure  diastolic_blood_pressure  \\\n",
       "0  50.391781       2    0                      110                        80   \n",
       "1  55.419178       1    1                      140                        90   \n",
       "2  51.663014       1    0                      130                        70   \n",
       "3  48.282192       2    1                      150                       100   \n",
       "4  47.873973       1    0                      100                        60   \n",
       "\n",
       "   cholesterol  glucose_level  smoker  alcohol_consump  physical_activity  \\\n",
       "0            1              1       0                0                  1   \n",
       "1            3              1       0                0                  1   \n",
       "2            3              1       0                0                  0   \n",
       "3            1              1       0                0                  1   \n",
       "4            1              1       0                0                  0   \n",
       "\n",
       "   heart_disease  \n",
       "0              0  \n",
       "1              1  \n",
       "2              1  \n",
       "3              1  \n",
       "4              0  "
      ]
     },
     "execution_count": 368,
     "metadata": {},
     "output_type": "execute_result"
    }
   ],
   "source": [
    "data.head()"
   ]
  },
  {
   "cell_type": "code",
   "execution_count": 369,
   "id": "982bcbe6",
   "metadata": {},
   "outputs": [
    {
     "name": "stdout",
     "output_type": "stream",
     "text": [
      "0    35021\n",
      "1    34979\n",
      "Name: heart_disease, dtype: int64\n"
     ]
    },
    {
     "data": {
      "text/plain": [
       "<AxesSubplot:>"
      ]
     },
     "execution_count": 369,
     "metadata": {},
     "output_type": "execute_result"
    },
    {
     "data": {
      "image/png": "[encoded data removed]",
      "text/plain": [
       "<Figure size 432x288 with 1 Axes>"
      ]
     },
     "metadata": {
      "needs_background": "light"
     },
     "output_type": "display_data"
    }
   ],
   "source": [
    "target_balance = data.heart_disease.value_counts() \n",
    "print(target_balance)\n",
    "\n",
    "target_balance.plot(kind='bar')"
   ]
  },
  {
   "cell_type": "code",
   "execution_count": 370,
   "id": "d6abc11d",
   "metadata": {},
   "outputs": [],
   "source": [
    "X = data.loc[:,'age':'physical_activity']\n",
    "y = data['heart_disease']"
   ]
  },
  {
   "cell_type": "code",
   "execution_count": 371,
   "id": "856d21f5",
   "metadata": {},
   "outputs": [
    {
     "data": {
      "text/html": [
       "<div>\n",
       "<style scoped>\n",
       "    .dataframe tbody tr th:only-of-type {\n",
       "        vertical-align: middle;\n",
       "    }\n",
       "\n",
       "    .dataframe tbody tr th {\n",
       "        vertical-align: top;\n",
       "    }\n",
       "\n",
       "    .dataframe thead th {\n",
       "        text-align: right;\n",
       "    }\n",
       "</style>\n",
       "<table border=\"1\" class=\"dataframe\">\n",
       "  <thead>\n",
       "    <tr style=\"text-align: right;\">\n",
       "      <th></th>\n",
       "      <th>age</th>\n",
       "      <th>gender</th>\n",
       "      <th>BMI</th>\n",
       "      <th>systolic_blood_pressure</th>\n",
       "      <th>diastolic_blood_pressure</th>\n",
       "      <th>cholesterol</th>\n",
       "      <th>glucose_level</th>\n",
       "      <th>smoker</th>\n",
       "      <th>alcohol_consump</th>\n",
       "      <th>physical_activity</th>\n",
       "    </tr>\n",
       "  </thead>\n",
       "  <tbody>\n",
       "    <tr>\n",
       "      <th>0</th>\n",
       "      <td>50.391781</td>\n",
       "      <td>2</td>\n",
       "      <td>0</td>\n",
       "      <td>110</td>\n",
       "      <td>80</td>\n",
       "      <td>1</td>\n",
       "      <td>1</td>\n",
       "      <td>0</td>\n",
       "      <td>0</td>\n",
       "      <td>1</td>\n",
       "    </tr>\n",
       "    <tr>\n",
       "      <th>1</th>\n",
       "      <td>55.419178</td>\n",
       "      <td>1</td>\n",
       "      <td>1</td>\n",
       "      <td>140</td>\n",
       "      <td>90</td>\n",
       "      <td>3</td>\n",
       "      <td>1</td>\n",
       "      <td>0</td>\n",
       "      <td>0</td>\n",
       "      <td>1</td>\n",
       "    </tr>\n",
       "    <tr>\n",
       "      <th>2</th>\n",
       "      <td>51.663014</td>\n",
       "      <td>1</td>\n",
       "      <td>0</td>\n",
       "      <td>130</td>\n",
       "      <td>70</td>\n",
       "      <td>3</td>\n",
       "      <td>1</td>\n",
       "      <td>0</td>\n",
       "      <td>0</td>\n",
       "      <td>0</td>\n",
       "    </tr>\n",
       "    <tr>\n",
       "      <th>3</th>\n",
       "      <td>48.282192</td>\n",
       "      <td>2</td>\n",
       "      <td>1</td>\n",
       "      <td>150</td>\n",
       "      <td>100</td>\n",
       "      <td>1</td>\n",
       "      <td>1</td>\n",
       "      <td>0</td>\n",
       "      <td>0</td>\n",
       "      <td>1</td>\n",
       "    </tr>\n",
       "    <tr>\n",
       "      <th>4</th>\n",
       "      <td>47.873973</td>\n",
       "      <td>1</td>\n",
       "      <td>0</td>\n",
       "      <td>100</td>\n",
       "      <td>60</td>\n",
       "      <td>1</td>\n",
       "      <td>1</td>\n",
       "      <td>0</td>\n",
       "      <td>0</td>\n",
       "      <td>0</td>\n",
       "    </tr>\n",
       "  </tbody>\n",
       "</table>\n",
       "</div>"
      ],
      "text/plain": [
       "         age  gender  BMI  systolic_blood_pressure  diastolic_blood_pressure  \\\n",
       "0  50.391781       2    0                      110                        80   \n",
       "1  55.419178       1    1                      140                        90   \n",
       "2  51.663014       1    0                      130                        70   \n",
       "3  48.282192       2    1                      150                       100   \n",
       "4  47.873973       1    0                      100                        60   \n",
       "\n",
       "   cholesterol  glucose_level  smoker  alcohol_consump  physical_activity  \n",
       "0            1              1       0                0                  1  \n",
       "1            3              1       0                0                  1  \n",
       "2            3              1       0                0                  0  \n",
       "3            1              1       0                0                  1  \n",
       "4            1              1       0                0                  0  "
      ]
     },
     "execution_count": 371,
     "metadata": {},
     "output_type": "execute_result"
    }
   ],
   "source": [
    "X.head()"
   ]
  },
  {
   "cell_type": "code",
   "execution_count": 372,
   "id": "29ab03c6",
   "metadata": {},
   "outputs": [],
   "source": [
    "X_train, X_test, y_train, y_test = train_test_split(X,y,test_size=0.2, random_state=45)\n",
    "X_train, X_val, y_train, y_val = train_test_split(X_train, y_train, test_size=0.25, random_state=42)"
   ]
  },
  {
   "cell_type": "code",
   "execution_count": 373,
   "id": "cd209f9c",
   "metadata": {},
   "outputs": [
    {
     "name": "stderr",
     "output_type": "stream",
     "text": [
      "lbfgs failed to converge (status=1):\n",
      "STOP: TOTAL NO. of ITERATIONS REACHED LIMIT.\n",
      "\n",
      "Increase the number of iterations (max_iter) or scale the data as shown in:\n",
      "    https://scikit-learn.org/stable/modules/preprocessing.html\n",
      "Please also refer to the documentation for alternative solver options:\n",
      "    https://scikit-learn.org/stable/modules/linear_model.html#logistic-regression\n"
     ]
    },
    {
     "data": {
      "text/plain": [
       "LogisticRegression(C=1000)"
      ]
     },
     "execution_count": 373,
     "metadata": {},
     "output_type": "execute_result"
    }
   ],
   "source": [
    "logit_1= LogisticRegression(C=1000)\n",
    "logit_1.fit(X_train,y_train)"
   ]
  },
  {
   "cell_type": "code",
   "execution_count": 374,
   "id": "ce4417f8",
   "metadata": {},
   "outputs": [
    {
     "data": {
      "text/plain": [
       "0.7035"
      ]
     },
     "execution_count": 374,
     "metadata": {},
     "output_type": "execute_result"
    }
   ],
   "source": [
    "logit_1.score(X_test,y_test)"
   ]
  },
  {
   "cell_type": "code",
   "execution_count": 375,
   "id": "e527f39b",
   "metadata": {},
   "outputs": [
    {
     "name": "stdout",
     "output_type": "stream",
     "text": [
      "The score for logistic regression is\n",
      "Training:  70.28%\n",
      "Test set:  70.35%\n"
     ]
    }
   ],
   "source": [
    "print(\"The score for logistic regression is\")\n",
    "print(\"Training: {:6.2f}%\".format(100*logit_1.score(X_train, y_train)))\n",
    "print(\"Test set: {:6.2f}%\".format(100*logit_1.score(X_test, y_test)))"
   ]
  },
  {
   "cell_type": "code",
   "execution_count": 376,
   "id": "e5ba9e3a",
   "metadata": {},
   "outputs": [
    {
     "name": "stdout",
     "output_type": "stream",
     "text": [
      "Logistic regression validation metrics:  \n",
      " Precision: 0.5055 \n",
      " Recall: 0.4612 \n",
      " F1: 0.4823\n"
     ]
    }
   ],
   "source": [
    "print('Logistic regression validation metrics:  \\n Precision: %.4f \\n Recall: %.4f \\n F1: %.4f' %\n",
    "        (\n",
    "         precision_score(y_val, logit_1.predict(X_test)), \n",
    "         recall_score(y_val, logit_1.predict(X_test)),\n",
    "         f1_score(y_val, logit_1.predict(X_test))\n",
    "        )\n",
    "     )"
   ]
  },
  {
   "cell_type": "markdown",
   "id": "d52e360c",
   "metadata": {},
   "source": [
    "Sklearn logistic regression we should make sure to scale our features prior to fitting, since regularzation is used by default "
   ]
  },
  {
   "cell_type": "code",
   "execution_count": 377,
   "id": "1ade34db",
   "metadata": {},
   "outputs": [
    {
     "data": {
      "text/plain": [
       "0.7167380952380953"
      ]
     },
     "execution_count": 377,
     "metadata": {},
     "output_type": "execute_result"
    }
   ],
   "source": [
    "std_scale = StandardScaler()\n",
    "\n",
    "\n",
    "X_train_scaled = std_scale.fit_transform(X_train)\n",
    "X_val_scaled= std_scale.fit_transform(X_val)\n",
    "X_test_scaled= std_scale.fit_transform(X_test)\n",
    "\n",
    "logit_2 = LogisticRegression()\n",
    "logit_2.fit(X_train_scaled, y_train)\n",
    "\n",
    "y_predict = logit_2.predict(X_train_scaled) \n",
    "logit_2.score(X_train_scaled, y_train)"
   ]
  },
  {
   "cell_type": "code",
   "execution_count": 378,
   "id": "e897dfe4",
   "metadata": {},
   "outputs": [
    {
     "name": "stdout",
     "output_type": "stream",
     "text": [
      "The score for logistic regression 2 is\n",
      "Training:  71.67%\n",
      "Val set:  71.13%\n"
     ]
    }
   ],
   "source": [
    "print(\"The score for logistic regression 2 is\")\n",
    "print(\"Training: {:6.2f}%\".format(100*logit_2.score(X_train_scaled, y_train)))\n",
    "print(\"Val set: {:6.2f}%\".format(100*logit_2.score(X_test_scaled, y_test)))"
   ]
  },
  {
   "cell_type": "code",
   "execution_count": 379,
   "id": "1ac22b3a",
   "metadata": {},
   "outputs": [
    {
     "name": "stdout",
     "output_type": "stream",
     "text": [
      "Logistic regression 2 validation metrics:  \n",
      " Precision: 0.7672 \n",
      " Recall: 0.6245 \n",
      " F1: 0.6885\n"
     ]
    }
   ],
   "source": [
    "print('Logistic regression 2 validation metrics:  \\n Precision: %.4f \\n Recall: %.4f \\n F1: %.4f' %\n",
    "        (\n",
    "         precision_score(y_val, logit_2.predict(X_val_scaled)), \n",
    "         recall_score(y_val, logit_2.predict(X_val_scaled)),\n",
    "         f1_score(y_val, logit_2.predict(X_val_scaled))\n",
    "        )\n",
    "     )"
   ]
  },
  {
   "cell_type": "code",
   "execution_count": 380,
   "id": "fd31527a",
   "metadata": {},
   "outputs": [],
   "source": [
    "from sklearn.metrics import roc_auc_score, roc_curve\n"
   ]
  },
  {
   "cell_type": "code",
   "execution_count": 381,
   "id": "c40181a5",
   "metadata": {},
   "outputs": [
    {
     "data": {
      "text/plain": [
       "<matplotlib.legend.Legend at 0x7fb26f716370>"
      ]
     },
     "execution_count": 381,
     "metadata": {},
     "output_type": "execute_result"
    },
    {
     "data": {
      "image/png": "[encoded data removed]",
      "text/plain": [
       "<Figure size 432x288 with 1 Axes>"
      ]
     },
     "metadata": {
      "needs_background": "light"
     },
     "output_type": "display_data"
    }
   ],
   "source": [
    "from sklearn.metrics import roc_curve\n",
    "\n",
    "fpr, tpr, _ = roc_curve(y_test, logit_2.predict_proba(X_test_scaled)[:,1])\n",
    "plt.plot(fpr, tpr)\n",
    "\n",
    "x = np.linspace(0,1, 100000)\n",
    "plt.plot(x, x, linestyle='--')\n",
    "\n",
    "plt.title('ROC Curve')\n",
    "plt.xlabel('False Positive Rate')\n",
    "plt.ylabel('True Positive Rate')\n",
    "plt.legend(['Logistic Regression'])"
   ]
  },
  {
   "cell_type": "code",
   "execution_count": 382,
   "id": "87f52615",
   "metadata": {},
   "outputs": [
    {
     "data": {
      "text/plain": [
       "array([[5254, 1838],\n",
       "       [2204, 4704]])"
      ]
     },
     "execution_count": 382,
     "metadata": {},
     "output_type": "execute_result"
    }
   ],
   "source": [
    "logit_1_confusion = confusion_matrix(y_test, logit_2.predict(X_test_scaled))\n",
    "logit_1_confusion"
   ]
  },
  {
   "cell_type": "code",
   "execution_count": 383,
   "id": "0872bcc5",
   "metadata": {},
   "outputs": [
    {
     "data": {
      "image/png": "[encoded data removed]",
      "text/plain": [
       "<Figure size 900x600 with 2 Axes>"
      ]
     },
     "metadata": {
      "needs_background": "light"
     },
     "output_type": "display_data"
    }
   ],
   "source": [
    "logit_1_confusion = confusion_matrix(y_test, logit_2.predict(X_test_scaled))\n",
    "plt.figure(dpi=150)\n",
    "sns.heatmap(logit_1_confusion, cmap=plt.cm.Blues, annot=True, square=True,\n",
    "           xticklabels=['False','True'],\n",
    "           yticklabels=['False','True'])\n",
    "\n",
    "plt.xlabel('Predicted illness')\n",
    "plt.ylabel('Actual illness')\n",
    "plt.title('Logistic regression confusion matrix');"
   ]
  },
  {
   "cell_type": "markdown",
   "id": "a9bee022",
   "metadata": {},
   "source": [
    "#### For a start, it is not bad. However, let's try other models and ensembles of different models to check the best-performing path. "
   ]
  },
  {
   "cell_type": "markdown",
   "id": "85f44c40",
   "metadata": {},
   "source": [
    "### kNN Model"
   ]
  },
  {
   "cell_type": "code",
   "execution_count": 384,
   "id": "4089864b",
   "metadata": {},
   "outputs": [],
   "source": [
    "\n",
    "knn_model = KNeighborsClassifier(15)\n"
   ]
  },
  {
   "cell_type": "code",
   "execution_count": 385,
   "id": "4cbfaf2e",
   "metadata": {},
   "outputs": [
    {
     "data": {
      "text/plain": [
       "KNeighborsClassifier(n_neighbors=15)"
      ]
     },
     "execution_count": 385,
     "metadata": {},
     "output_type": "execute_result"
    }
   ],
   "source": [
    "knn_model.fit(X_train_scaled,y_train)"
   ]
  },
  {
   "cell_type": "code",
   "execution_count": 386,
   "id": "03c8f593",
   "metadata": {},
   "outputs": [
    {
     "name": "stdout",
     "output_type": "stream",
     "text": [
      "The score for KNN model is\n",
      "Training:  74.23%\n",
      "Val set:  71.36%\n"
     ]
    }
   ],
   "source": [
    "print(\"The score for KNN model is\")\n",
    "print(\"Training: {:6.2f}%\".format(100*knn_model.score(X_train_scaled, y_train)))\n",
    "print(\"Val set: {:6.2f}%\".format(100*knn_model.score(X_val_scaled, y_val)))"
   ]
  },
  {
   "cell_type": "code",
   "execution_count": 387,
   "id": "c60d4156",
   "metadata": {},
   "outputs": [
    {
     "name": "stdout",
     "output_type": "stream",
     "text": [
      "kNN validation metrics:  \n",
      " Precision: 0.7255 \n",
      " Recall: 0.6950 \n",
      " F1: 0.7099\n"
     ]
    }
   ],
   "source": [
    "print('kNN validation metrics:  \\n Precision: %.4f \\n Recall: %.4f \\n F1: %.4f' %\n",
    "        (\n",
    "         precision_score(y_val, knn_model.predict(X_val_scaled)), \n",
    "         recall_score(y_val, knn_model.predict(X_val_scaled)),\n",
    "         f1_score(y_val, knn_model.predict(X_val_scaled))\n",
    "        )\n",
    "     )"
   ]
  },
  {
   "cell_type": "markdown",
   "id": "ab093729",
   "metadata": {},
   "source": [
    "### Random Forest Model"
   ]
  },
  {
   "cell_type": "code",
   "execution_count": 388,
   "id": "a0c51810",
   "metadata": {},
   "outputs": [],
   "source": [
    "rf_model = RandomForestClassifier(n_estimators=100, criterion='entropy')\n"
   ]
  },
  {
   "cell_type": "code",
   "execution_count": 389,
   "id": "d218e263",
   "metadata": {},
   "outputs": [
    {
     "data": {
      "text/plain": [
       "RandomForestClassifier(criterion='entropy')"
      ]
     },
     "execution_count": 389,
     "metadata": {},
     "output_type": "execute_result"
    }
   ],
   "source": [
    "rf_model.fit(X_train,y_train)"
   ]
  },
  {
   "cell_type": "code",
   "execution_count": 390,
   "id": "dff719a9",
   "metadata": {},
   "outputs": [
    {
     "name": "stdout",
     "output_type": "stream",
     "text": [
      "The score for Random Forest Classifier is\n",
      "Training:  98.45%\n",
      "Val set:  65.65%\n"
     ]
    }
   ],
   "source": [
    "print(\"The score for Random Forest Classifier is\")\n",
    "print(\"Training: {:6.2f}%\".format(100*rf_model.score(X_train, y_train)))\n",
    "print(\"Val set: {:6.2f}%\".format(100*rf_model.score(X_val, y_val)))"
   ]
  },
  {
   "cell_type": "code",
   "execution_count": 391,
   "id": "1b8ddba9",
   "metadata": {},
   "outputs": [
    {
     "name": "stdout",
     "output_type": "stream",
     "text": [
      "Random Forest validation metrics:  \n",
      " Precision: 0.6571 \n",
      " Recall: 0.6669 \n",
      " F1: 0.6619\n"
     ]
    }
   ],
   "source": [
    "print('Random Forest validation metrics:  \\n Precision: %.4f \\n Recall: %.4f \\n F1: %.4f' %\n",
    "        (\n",
    "         precision_score(y_val, rf_model.predict(X_val)), \n",
    "         recall_score(y_val, rf_model.predict(X_val)),\n",
    "         f1_score(y_val, rf_model.predict(X_val))\n",
    "        )\n",
    "     )"
   ]
  },
  {
   "cell_type": "markdown",
   "id": "765e67cd",
   "metadata": {},
   "source": [
    "### Extra Trees"
   ]
  },
  {
   "cell_type": "code",
   "execution_count": 392,
   "id": "0e89db34",
   "metadata": {},
   "outputs": [],
   "source": [
    "et_model = ExtraTreesClassifier(n_estimators=100)"
   ]
  },
  {
   "cell_type": "code",
   "execution_count": 393,
   "id": "e27dcd81",
   "metadata": {},
   "outputs": [
    {
     "data": {
      "text/plain": [
       "ExtraTreesClassifier()"
      ]
     },
     "execution_count": 393,
     "metadata": {},
     "output_type": "execute_result"
    }
   ],
   "source": [
    "et_model.fit(X_train,y_train)"
   ]
  },
  {
   "cell_type": "code",
   "execution_count": 394,
   "id": "d70b0750",
   "metadata": {
    "scrolled": true
   },
   "outputs": [
    {
     "name": "stdout",
     "output_type": "stream",
     "text": [
      "The score for Extra Trees Classifier is\n",
      "Training:  98.47%\n",
      "Val set:  64.86%\n"
     ]
    }
   ],
   "source": [
    "print(\"The score for Extra Trees Classifier is\")\n",
    "print(\"Training: {:6.2f}%\".format(100*et_model.score(X_train, y_train)))\n",
    "print(\"Val set: {:6.2f}%\".format(100*et_model.score(X_val, y_val)))"
   ]
  },
  {
   "cell_type": "code",
   "execution_count": 395,
   "id": "6db2a954",
   "metadata": {},
   "outputs": [
    {
     "name": "stdout",
     "output_type": "stream",
     "text": [
      "Extra Trrs validation metrics:  \n",
      " Precision: 0.6571 \n",
      " Recall: 0.6669 \n",
      " F1: 0.6619\n"
     ]
    }
   ],
   "source": [
    "print('Extra Trrs validation metrics:  \\n Precision: %.4f \\n Recall: %.4f \\n F1: %.4f' %\n",
    "        (\n",
    "         precision_score(y_val, rf_model.predict(X_val)), \n",
    "         recall_score(y_val, rf_model.predict(X_val)),\n",
    "         f1_score(y_val, rf_model.predict(X_val))\n",
    "        )\n",
    "     )"
   ]
  },
  {
   "cell_type": "markdown",
   "id": "1c420de5",
   "metadata": {},
   "source": [
    "### XG Boost "
   ]
  },
  {
   "cell_type": "code",
   "execution_count": 396,
   "id": "0649d3d0",
   "metadata": {
    "scrolled": true
   },
   "outputs": [
    {
     "name": "stderr",
     "output_type": "stream",
     "text": [
      "The use of label encoder in XGBClassifier is deprecated and will be removed in a future release. To remove this warning, do the following: 1) Pass option use_label_encoder=False when constructing XGBClassifier object; and 2) Encode your labels (y) as integers starting with 0, i.e. 0, 1, 2, ..., [num_class - 1].\n"
     ]
    },
    {
     "data": {
      "text/plain": [
       "0.7325714285714285"
      ]
     },
     "execution_count": 396,
     "metadata": {},
     "output_type": "execute_result"
    }
   ],
   "source": [
    "gbm = xgb.XGBClassifier( \n",
    "                        n_estimators=30000,\n",
    "                        max_depth=4,\n",
    "                        objective='binary:logistic', \n",
    "                        learning_rate=.05, \n",
    "                        subsample=.8,\n",
    "                        min_child_weight=3,\n",
    "                        colsample_bytree=.8\n",
    "                       )\n",
    "\n",
    "eval_set=[(X_train,y_train),(X_val,y_val)]\n",
    "fit_model = gbm.fit( \n",
    "                    X_train, y_train, \n",
    "                    eval_set=eval_set,\n",
    "                    eval_metric='error',\n",
    "                    early_stopping_rounds=50,\n",
    "                    verbose=False\n",
    "                   )\n",
    "\n",
    "accuracy_score(y_test, gbm.predict(X_test, ntree_limit=gbm.best_ntree_limit)) "
   ]
  },
  {
   "cell_type": "code",
   "execution_count": 397,
   "id": "3f4d259d",
   "metadata": {},
   "outputs": [
    {
     "name": "stdout",
     "output_type": "stream",
     "text": [
      "Gradient Boosting validation metrics:  \n",
      " Precision: 0.7599 \n",
      " Recall: 0.6836 \n",
      " F1: 0.7197\n"
     ]
    }
   ],
   "source": [
    "print('Gradient Boosting validation metrics:  \\n Precision: %.4f \\n Recall: %.4f \\n F1: %.4f' %\n",
    "        (\n",
    "         precision_score(y_val, gbm.predict(X_val)), \n",
    "         recall_score(y_val, gbm.predict(X_val)),\n",
    "         f1_score(y_val, gbm.predict(X_val))\n",
    "        )\n",
    "     )"
   ]
  },
  {
   "cell_type": "code",
   "execution_count": 398,
   "id": "9c373d28",
   "metadata": {},
   "outputs": [
    {
     "data": {
      "text/plain": [
       "<AxesSubplot:title={'center':'Feature importance'}, xlabel='F score', ylabel='Features'>"
      ]
     },
     "execution_count": 398,
     "metadata": {},
     "output_type": "execute_result"
    },
    {
     "data": {
      "image/png": "[encoded data removed]",
      "text/plain": [
       "<Figure size 432x288 with 1 Axes>"
      ]
     },
     "metadata": {
      "needs_background": "light"
     },
     "output_type": "display_data"
    },
    {
     "data": {
      "image/png": "[encoded data removed]",
      "text/plain": [
       "<Figure size 432x288 with 1 Axes>"
      ]
     },
     "metadata": {
      "needs_background": "light"
     },
     "output_type": "display_data"
    }
   ],
   "source": [
    "xgb.plot_importance(gbm)\n",
    "xgb.plot_importance(gbm, importance_type='gain')"
   ]
  },
  {
   "cell_type": "markdown",
   "id": "6c99f04d",
   "metadata": {},
   "source": [
    "### Gaussian Naive Bayes"
   ]
  },
  {
   "cell_type": "code",
   "execution_count": 399,
   "id": "dc01eb10",
   "metadata": {},
   "outputs": [],
   "source": [
    "nb_model = GaussianNB()"
   ]
  },
  {
   "cell_type": "code",
   "execution_count": 400,
   "id": "ddb60919",
   "metadata": {},
   "outputs": [
    {
     "data": {
      "text/plain": [
       "GaussianNB()"
      ]
     },
     "execution_count": 400,
     "metadata": {},
     "output_type": "execute_result"
    }
   ],
   "source": [
    "nb_model.fit(X_train, y_train)"
   ]
  },
  {
   "cell_type": "code",
   "execution_count": 401,
   "id": "2bab3c23",
   "metadata": {},
   "outputs": [
    {
     "name": "stdout",
     "output_type": "stream",
     "text": [
      "The score for Naive Bayes is\n",
      "Training:  58.95%\n",
      "Val set:  58.56%\n"
     ]
    }
   ],
   "source": [
    "print(\"The score for Naive Bayes is\")\n",
    "print(\"Training: {:6.2f}%\".format(100*nb_model.score(X_train, y_train)))\n",
    "print(\"Val set: {:6.2f}%\".format(100*nb_model.score(X_val, y_val)))"
   ]
  },
  {
   "cell_type": "code",
   "execution_count": 402,
   "id": "618ab010",
   "metadata": {},
   "outputs": [
    {
     "name": "stdout",
     "output_type": "stream",
     "text": [
      "Naive Bayes validation metrics:  \n",
      " Precision: 0.7157 \n",
      " Recall: 0.2956 \n",
      " F1: 0.4184\n"
     ]
    }
   ],
   "source": [
    "print('Naive Bayes validation metrics:  \\n Precision: %.4f \\n Recall: %.4f \\n F1: %.4f' %\n",
    "        (\n",
    "         precision_score(y_val, nb_model.predict(X_val)), \n",
    "         recall_score(y_val, nb_model.predict(X_val)),\n",
    "         f1_score(y_val, nb_model.predict(X_val))\n",
    "        )\n",
    "     )"
   ]
  },
  {
   "cell_type": "code",
   "execution_count": 403,
   "id": "031c305c",
   "metadata": {},
   "outputs": [
    {
     "data": {
      "text/plain": [
       "<matplotlib.legend.Legend at 0x7fb23c21bb20>"
      ]
     },
     "execution_count": 403,
     "metadata": {},
     "output_type": "execute_result"
    },
    {
     "data": {
      "image/png": "[encoded data removed]",
      "text/plain": [
       "<Figure size 432x288 with 1 Axes>"
      ]
     },
     "metadata": {
      "needs_background": "light"
     },
     "output_type": "display_data"
    }
   ],
   "source": [
    "from sklearn.metrics import roc_curve\n",
    "\n",
    "fpr, tpr, _ = roc_curve(y_test, logit_2.predict_proba(X_test_scaled)[:,1])\n",
    "plt.plot(fpr, tpr)\n",
    "\n",
    "fpr, tpr, _ = roc_curve(y_test, knn_model.predict_proba(X_test_scaled)[:,1])\n",
    "plt.plot(fpr, tpr)\n",
    "\n",
    "fpr, tpr, _ = roc_curve(y_test, rf_model.predict_proba(X_test)[:,1])\n",
    "plt.plot(fpr, tpr)\n",
    "\n",
    "fpr, tpr, _ = roc_curve(y_test, et_model.predict_proba(X_test)[:,1])\n",
    "plt.plot(fpr, tpr)\n",
    "\n",
    "fpr, tpr, _ = roc_curve(y_test, gbm.predict_proba(X_test)[:,1])\n",
    "plt.plot(fpr, tpr)\n",
    "\n",
    "fpr, tpr, _ = roc_curve(y_test, nb_model.predict_proba(X_test)[:,1])\n",
    "plt.plot(fpr, tpr)\n",
    "\n",
    "\n",
    "\n",
    "x = np.linspace(0,1, 100000)\n",
    "plt.plot(x, x, linestyle='--')\n",
    "\n",
    "plt.title('ROC Curve')\n",
    "plt.xlabel('False Positive Rate')\n",
    "plt.ylabel('True Positive Rate')\n",
    "plt.legend(['Logistic Regression','kNN', 'Random Forest', 'Extra Trees', 'Gradient Boosting', 'Gaussian Naive Bayes'])"
   ]
  },
  {
   "cell_type": "code",
   "execution_count": 405,
   "id": "f7d9ecb1",
   "metadata": {},
   "outputs": [
    {
     "data": {
      "image/png": "[encoded data removed]",
      "text/plain": [
       "<Figure size 576x468 with 3 Axes>"
      ]
     },
     "metadata": {},
     "output_type": "display_data"
    }
   ],
   "source": [
    "explainer = shap.Explainer(gbm)\n",
    "shap_values = explainer(X_test)\n",
    "\n",
    "# visualize the first prediction's explanation\n",
    "shap.plots.waterfall(shap_values[0])"
   ]
  },
  {
   "cell_type": "code",
   "execution_count": 406,
   "id": "ae658bfc",
   "metadata": {},
   "outputs": [
    {
     "data": {
      "image/png": "[encoded data removed]",
      "text/plain": [
       "<Figure size 576x468 with 1 Axes>"
      ]
     },
     "metadata": {},
     "output_type": "display_data"
    }
   ],
   "source": [
    "shap.plots.bar(shap_values)"
   ]
  },
  {
   "cell_type": "markdown",
   "id": "c758571c",
   "metadata": {},
   "source": [
    "####  For this project, identifying the positive class is more important than the total accuracy of the model. The best model amply the highest recall. The best result has Random Forest from the previous models so we will continue with it. "
   ]
  },
  {
   "cell_type": "code",
   "execution_count": 407,
   "id": "a94e40e0",
   "metadata": {
    "scrolled": true
   },
   "outputs": [
    {
     "name": "stdout",
     "output_type": "stream",
     "text": [
      "The recall we have recived from different models:\n",
      "Logistic Regression:  62.45%\n",
      "kNN:  69.50%\n",
      "Random Forest:  66.69%\n",
      "Extra Trees:  66.69%\n",
      "Gradient Boosting:  68.36%\n",
      "Naive Bayes:  29.56%\n"
     ]
    }
   ],
   "source": [
    "print(\"The recall we have recived from different models:\")\n",
    "print(\"Logistic Regression: {:6.2f}%\".format(100*recall_score(y_val, logit_2.predict(X_val_scaled))))\n",
    "print(\"kNN: {:6.2f}%\".format(100*recall_score(y_val, knn_model.predict(X_val_scaled))))\n",
    "print(\"Random Forest: {:6.2f}%\".format(100*recall_score(y_val, rf_model.predict(X_val))))\n",
    "print(\"Extra Trees: {:6.2f}%\".format(100*recall_score(y_val, rf_model.predict(X_val))))\n",
    "print(\"Gradient Boosting: {:6.2f}%\".format(100*recall_score(y_val, gbm.predict(X_val))))\n",
    "print(\"Naive Bayes: {:6.2f}%\".format(100*recall_score(y_val, nb_model.predict(X_val))))"
   ]
  },
  {
   "cell_type": "markdown",
   "id": "6e9e33d3",
   "metadata": {},
   "source": [
    "#### However, the base Random Forest model shows a big overfitting (the difference in accuracy between train and validation data is more than 30%)"
   ]
  },
  {
   "cell_type": "code",
   "execution_count": 408,
   "id": "9051f794",
   "metadata": {
    "scrolled": true
   },
   "outputs": [
    {
     "name": "stdout",
     "output_type": "stream",
     "text": [
      "The score for Random Forest Classifier is\n",
      "Training:  98.45%\n",
      "Test set:  65.65%\n"
     ]
    }
   ],
   "source": [
    "print(\"The score for Random Forest Classifier is\")\n",
    "print(\"Training: {:6.2f}%\".format(100*rf_model.score(X_train, y_train)))\n",
    "print(\"Test set: {:6.2f}%\".format(100*rf_model.score(X_val, y_val)))"
   ]
  },
  {
   "cell_type": "markdown",
   "id": "afb13806",
   "metadata": {},
   "source": [
    "#### So we need to tune hyperparameters in order to reduce overfitting\n",
    "#### 1. Increase n_estimators, the more trees, the less likely the RF is to overfit\n",
    "#### 2. reduce max_features parameter\n",
    "#### 3. max_depth tuned to 12 \n",
    "#### 4. tuned max_samples_leaf greater than 2."
   ]
  },
  {
   "cell_type": "code",
   "execution_count": 410,
   "id": "31c13893",
   "metadata": {},
   "outputs": [],
   "source": [
    "rf_model_new = RandomForestClassifier(n_estimators=170, criterion='entropy', max_features=3, max_depth=12, min_samples_leaf=3)"
   ]
  },
  {
   "cell_type": "code",
   "execution_count": 411,
   "id": "eff21fc7",
   "metadata": {},
   "outputs": [
    {
     "data": {
      "text/plain": [
       "RandomForestClassifier(criterion='entropy', max_depth=12, max_features=3,\n",
       "                       min_samples_leaf=3, n_estimators=170)"
      ]
     },
     "execution_count": 411,
     "metadata": {},
     "output_type": "execute_result"
    }
   ],
   "source": [
    "rf_model_new.fit(X_train,y_train)"
   ]
  },
  {
   "cell_type": "code",
   "execution_count": 412,
   "id": "f1e099e8",
   "metadata": {},
   "outputs": [
    {
     "name": "stdout",
     "output_type": "stream",
     "text": [
      "The score for Random Forest New Classifier is\n",
      "Training:  76.04%\n",
      "Test set:  72.96%\n"
     ]
    }
   ],
   "source": [
    "print(\"The score for Random Forest New Classifier is\")\n",
    "print(\"Training: {:6.2f}%\".format(100*rf_model_new.score(X_train, y_train)))\n",
    "print(\"Test set: {:6.2f}%\".format(100*rf_model_new.score(X_val, y_val)))"
   ]
  },
  {
   "cell_type": "code",
   "execution_count": 413,
   "id": "ad3b6b71",
   "metadata": {},
   "outputs": [
    {
     "name": "stdout",
     "output_type": "stream",
     "text": [
      "Random Forest test metrics:  \n",
      " Precision: 0.7565 \n",
      " Recall: 0.6824 \n",
      " F1: 0.7176\n"
     ]
    }
   ],
   "source": [
    "print('Random Forest test metrics:  \\n Precision: %.4f \\n Recall: %.4f \\n F1: %.4f' %\n",
    "        (\n",
    "         precision_score(y_test, rf_model_new.predict(X_test)), \n",
    "         recall_score(y_test, rf_model_new.predict(X_test)),\n",
    "         f1_score(y_test, rf_model_new.predict(X_test))\n",
    "        )\n",
    "     )"
   ]
  },
  {
   "cell_type": "code",
   "execution_count": 414,
   "id": "42c042e3",
   "metadata": {},
   "outputs": [
    {
     "data": {
      "text/plain": [
       "array([[5575, 1517],\n",
       "       [2194, 4714]])"
      ]
     },
     "execution_count": 414,
     "metadata": {},
     "output_type": "execute_result"
    }
   ],
   "source": [
    "rf_confusion = confusion_matrix(y_test, rf_model_new.predict(X_test))\n",
    "rf_confusion"
   ]
  },
  {
   "cell_type": "markdown",
   "id": "c9697cfd",
   "metadata": {},
   "source": [
    "#### As our goal is to receive the highest recall, I will try to use soft prediction with the thresholds 0.3 and 0.4."
   ]
  },
  {
   "cell_type": "code",
   "execution_count": 415,
   "id": "aee14561",
   "metadata": {},
   "outputs": [
    {
     "data": {
      "text/plain": [
       "array([[4806, 2286],\n",
       "       [1587, 5321]])"
      ]
     },
     "execution_count": 415,
     "metadata": {},
     "output_type": "execute_result"
    }
   ],
   "source": [
    "rf_confusion_04 = confusion_matrix(y_test, (rf_model_new.predict_proba(X_test)[:,1]>=0.4).astype(int))\n",
    "rf_confusion_04"
   ]
  },
  {
   "cell_type": "code",
   "execution_count": 416,
   "id": "a02089d0",
   "metadata": {},
   "outputs": [
    {
     "data": {
      "text/plain": [
       "array([[3519, 3573],\n",
       "       [ 917, 5991]])"
      ]
     },
     "execution_count": 416,
     "metadata": {},
     "output_type": "execute_result"
    }
   ],
   "source": [
    "rf_confusion_03 = confusion_matrix(y_test, (rf_model_new.predict_proba(X_test)[:,1]>=0.3).astype(int))\n",
    "rf_confusion_03"
   ]
  },
  {
   "cell_type": "code",
   "execution_count": 417,
   "id": "4a094f7c",
   "metadata": {},
   "outputs": [
    {
     "name": "stdout",
     "output_type": "stream",
     "text": [
      "Recall score with threshold 0.4:  77.03%\n",
      "Recall score with threshold 0.3:  86.73%\n"
     ]
    }
   ],
   "source": [
    "print ('Recall score with threshold 0.4: {:6.2f}%'. \n",
    "       format(100* recall_score(y_test, (rf_model_new.predict_proba(X_test)[:,1]>=0.4).astype(int))))\n",
    "print ('Recall score with threshold 0.3: {:6.2f}%'. \n",
    "       format(100* recall_score(y_test, (rf_model_new.predict_proba(X_test)[:,1]>=0.3).astype(int))))"
   ]
  },
  {
   "cell_type": "code",
   "execution_count": 418,
   "id": "f09bb388",
   "metadata": {},
   "outputs": [
    {
     "data": {
      "text/plain": [
       "<matplotlib.legend.Legend at 0x7fb2ace24100>"
      ]
     },
     "execution_count": 418,
     "metadata": {},
     "output_type": "execute_result"
    },
    {
     "data": {
      "image/png": "[encoded data removed]",
      "text/plain": [
       "<Figure size 432x288 with 1 Axes>"
      ]
     },
     "metadata": {
      "needs_background": "light"
     },
     "output_type": "display_data"
    }
   ],
   "source": [
    "from sklearn.metrics import roc_curve\n",
    "\n",
    "\n",
    "fpr, tpr, _ = roc_curve(y_test, (rf_model_new.predict_proba(X_test)[:,1]>0.3))\n",
    "plt.plot(fpr, tpr)\n",
    "\n",
    "fpr, tpr, _ = roc_curve(y_test, (rf_model_new.predict_proba(X_test)[:,1]>0.4))\n",
    "plt.plot(fpr, tpr)\n",
    "\n",
    "x = np.linspace(0,1, 100000)\n",
    "plt.plot(x, x, linestyle='--')\n",
    "\n",
    "plt.title('ROC Curve')\n",
    "plt.xlabel('False Positive Rate')\n",
    "plt.ylabel('True Positive Rate')\n",
    "plt.legend(['Random Forest Thr 0.3','Random Forest Thr 0.4'])"
   ]
  },
  {
   "cell_type": "code",
   "execution_count": 419,
   "id": "0bf24ff3",
   "metadata": {
    "scrolled": true
   },
   "outputs": [
    {
     "name": "stdout",
     "output_type": "stream",
     "text": [
      "ROC AUC score 0.4 =  0.7239656662326325\n",
      "ROC AUC score 0.3 =  0.6817241247549373\n"
     ]
    }
   ],
   "source": [
    "print(\"ROC AUC score 0.4 = \", roc_auc_score(y_test, (rf_model_new.predict_proba(X_test)[:,1]>=0.4)))\n",
    "print(\"ROC AUC score 0.3 = \", roc_auc_score(y_test, (rf_model_new.predict_proba(X_test)[:,1]>=0.3)))"
   ]
  },
  {
   "cell_type": "markdown",
   "id": "abe78621",
   "metadata": {},
   "source": [
    "#### As we see the ROC AUC decreasing with the threshold of 0.3, in order to have better model predicting capability, we will keep the model with the threshold of 0.4."
   ]
  },
  {
   "cell_type": "code",
   "execution_count": 420,
   "id": "684b9628",
   "metadata": {},
   "outputs": [
    {
     "data": {
      "image/png": "[encoded data removed]",
      "text/plain": [
       "<Figure size 576x468 with 3 Axes>"
      ]
     },
     "metadata": {},
     "output_type": "display_data"
    }
   ],
   "source": [
    "explainer_rf = shap.Explainer(rf_model_new)\n",
    "shap_values_rf = explainer(X_test)\n",
    "\n",
    "\n",
    "shap.plots.waterfall(shap_values_rf[0])"
   ]
  },
  {
   "cell_type": "code",
   "execution_count": 421,
   "id": "b57cf546",
   "metadata": {},
   "outputs": [
    {
     "data": {
      "image/png": "[encoded data removed]",
      "text/plain": [
       "<Figure size 576x468 with 1 Axes>"
      ]
     },
     "metadata": {},
     "output_type": "display_data"
    }
   ],
   "source": [
    "shap.plots.bar(shap_values_rf)"
   ]
  },
  {
   "cell_type": "code",
   "execution_count": 422,
   "id": "1d63e3b8",
   "metadata": {},
   "outputs": [],
   "source": [
    "from sklearn.inspection import permutation_importance"
   ]
  },
  {
   "cell_type": "code",
   "execution_count": 423,
   "id": "c5338490",
   "metadata": {},
   "outputs": [
    {
     "data": {
      "text/plain": [
       "array([0.21520164, 0.01255767, 0.02159034, 0.42543018, 0.19141728,\n",
       "       0.08349718, 0.01977523, 0.00887799, 0.00748275, 0.01416974])"
      ]
     },
     "execution_count": 423,
     "metadata": {},
     "output_type": "execute_result"
    }
   ],
   "source": [
    "rf_model_new.feature_importances_"
   ]
  },
  {
   "cell_type": "code",
   "execution_count": null,
   "id": "9fbe1527",
   "metadata": {},
   "outputs": [],
   "source": []
  },
  {
   "cell_type": "code",
   "execution_count": 439,
   "id": "846fc0b3",
   "metadata": {},
   "outputs": [
    {
     "data": {
      "text/plain": [
       "Text(0.5, 0, 'Random Forest Feature Importance')"
      ]
     },
     "execution_count": 439,
     "metadata": {},
     "output_type": "execute_result"
    },
    {
     "data": {
      "image/png": "[encoded data removed]",
      "text/plain": [
       "<Figure size 432x288 with 1 Axes>"
      ]
     },
     "metadata": {
      "needs_background": "light"
     },
     "output_type": "display_data"
    }
   ],
   "source": [
    "sorted_f = rf_model_new.feature_importances_.argsort()\n",
    "plt.barh(data.columns[sorted_f], rf_model_new.feature_importances_[sorted_f])\n",
    "plt.xlabel(\"Random Forest Feature Importance\")"
   ]
  },
  {
   "cell_type": "code",
   "execution_count": 331,
   "id": "3ba7f75b",
   "metadata": {},
   "outputs": [],
   "source": [
    "perm_importance = permutation_importance(rf_model_new, X_test, y_test)"
   ]
  },
  {
   "cell_type": "code",
   "execution_count": 438,
   "id": "94df3fbe",
   "metadata": {},
   "outputs": [
    {
     "data": {
      "text/plain": [
       "Text(0.5, 0, 'Permutation Importance')"
      ]
     },
     "execution_count": 438,
     "metadata": {},
     "output_type": "execute_result"
    },
    {
     "data": {
      "image/png": "[encoded data removed]",
      "text/plain": [
       "<Figure size 432x288 with 1 Axes>"
      ]
     },
     "metadata": {
      "needs_background": "light"
     },
     "output_type": "display_data"
    }
   ],
   "source": [
    "sorted_fc = perm_importance.importances_mean.argsort()\n",
    "plt.barh(data.columns[sorted_fc], perm_importance.importances_mean[sorted_fc])\n",
    "plt.xlabel(\"Permutation Importance\")"
   ]
  },
  {
   "cell_type": "code",
   "execution_count": 428,
   "id": "a03b1bca",
   "metadata": {},
   "outputs": [],
   "source": [
    "data['probability']=rf_model_new.predict_proba(X)[:,1]"
   ]
  },
  {
   "cell_type": "code",
   "execution_count": 430,
   "id": "112cf3b9",
   "metadata": {
    "scrolled": true
   },
   "outputs": [
    {
     "data": {
      "text/html": [
       "<div>\n",
       "<style scoped>\n",
       "    .dataframe tbody tr th:only-of-type {\n",
       "        vertical-align: middle;\n",
       "    }\n",
       "\n",
       "    .dataframe tbody tr th {\n",
       "        vertical-align: top;\n",
       "    }\n",
       "\n",
       "    .dataframe thead th {\n",
       "        text-align: right;\n",
       "    }\n",
       "</style>\n",
       "<table border=\"1\" class=\"dataframe\">\n",
       "  <thead>\n",
       "    <tr style=\"text-align: right;\">\n",
       "      <th></th>\n",
       "      <th>age</th>\n",
       "      <th>gender</th>\n",
       "      <th>BMI</th>\n",
       "      <th>systolic_blood_pressure</th>\n",
       "      <th>diastolic_blood_pressure</th>\n",
       "      <th>cholesterol</th>\n",
       "      <th>glucose_level</th>\n",
       "      <th>smoker</th>\n",
       "      <th>alcohol_consump</th>\n",
       "      <th>physical_activity</th>\n",
       "      <th>heart_disease</th>\n",
       "      <th>probability</th>\n",
       "    </tr>\n",
       "  </thead>\n",
       "  <tbody>\n",
       "    <tr>\n",
       "      <th>0</th>\n",
       "      <td>50.391781</td>\n",
       "      <td>2</td>\n",
       "      <td>0</td>\n",
       "      <td>110</td>\n",
       "      <td>80</td>\n",
       "      <td>1</td>\n",
       "      <td>1</td>\n",
       "      <td>0</td>\n",
       "      <td>0</td>\n",
       "      <td>1</td>\n",
       "      <td>0</td>\n",
       "      <td>0.170992</td>\n",
       "    </tr>\n",
       "    <tr>\n",
       "      <th>1</th>\n",
       "      <td>55.419178</td>\n",
       "      <td>1</td>\n",
       "      <td>1</td>\n",
       "      <td>140</td>\n",
       "      <td>90</td>\n",
       "      <td>3</td>\n",
       "      <td>1</td>\n",
       "      <td>0</td>\n",
       "      <td>0</td>\n",
       "      <td>1</td>\n",
       "      <td>1</td>\n",
       "      <td>0.835625</td>\n",
       "    </tr>\n",
       "    <tr>\n",
       "      <th>2</th>\n",
       "      <td>51.663014</td>\n",
       "      <td>1</td>\n",
       "      <td>0</td>\n",
       "      <td>130</td>\n",
       "      <td>70</td>\n",
       "      <td>3</td>\n",
       "      <td>1</td>\n",
       "      <td>0</td>\n",
       "      <td>0</td>\n",
       "      <td>0</td>\n",
       "      <td>1</td>\n",
       "      <td>0.646001</td>\n",
       "    </tr>\n",
       "    <tr>\n",
       "      <th>3</th>\n",
       "      <td>48.282192</td>\n",
       "      <td>2</td>\n",
       "      <td>1</td>\n",
       "      <td>150</td>\n",
       "      <td>100</td>\n",
       "      <td>1</td>\n",
       "      <td>1</td>\n",
       "      <td>0</td>\n",
       "      <td>0</td>\n",
       "      <td>1</td>\n",
       "      <td>1</td>\n",
       "      <td>0.882529</td>\n",
       "    </tr>\n",
       "    <tr>\n",
       "      <th>4</th>\n",
       "      <td>47.873973</td>\n",
       "      <td>1</td>\n",
       "      <td>0</td>\n",
       "      <td>100</td>\n",
       "      <td>60</td>\n",
       "      <td>1</td>\n",
       "      <td>1</td>\n",
       "      <td>0</td>\n",
       "      <td>0</td>\n",
       "      <td>0</td>\n",
       "      <td>0</td>\n",
       "      <td>0.140300</td>\n",
       "    </tr>\n",
       "  </tbody>\n",
       "</table>\n",
       "</div>"
      ],
      "text/plain": [
       "         age  gender  BMI  systolic_blood_pressure  diastolic_blood_pressure  \\\n",
       "0  50.391781       2    0                      110                        80   \n",
       "1  55.419178       1    1                      140                        90   \n",
       "2  51.663014       1    0                      130                        70   \n",
       "3  48.282192       2    1                      150                       100   \n",
       "4  47.873973       1    0                      100                        60   \n",
       "\n",
       "   cholesterol  glucose_level  smoker  alcohol_consump  physical_activity  \\\n",
       "0            1              1       0                0                  1   \n",
       "1            3              1       0                0                  1   \n",
       "2            3              1       0                0                  0   \n",
       "3            1              1       0                0                  1   \n",
       "4            1              1       0                0                  0   \n",
       "\n",
       "   heart_disease  probability  \n",
       "0              0     0.170992  \n",
       "1              1     0.835625  \n",
       "2              1     0.646001  \n",
       "3              1     0.882529  \n",
       "4              0     0.140300  "
      ]
     },
     "execution_count": 430,
     "metadata": {},
     "output_type": "execute_result"
    }
   ],
   "source": [
    "data.head()"
   ]
  },
  {
   "cell_type": "code",
   "execution_count": 431,
   "id": "1bbae586",
   "metadata": {},
   "outputs": [],
   "source": [
    "data = data[data.systolic_blood_pressure.between(0,500)]\n"
   ]
  },
  {
   "cell_type": "code",
   "execution_count": 432,
   "id": "c012bc15",
   "metadata": {},
   "outputs": [],
   "source": [
    "\n",
    "data = data[data.diastolic_blood_pressure.between(0,500)]"
   ]
  },
  {
   "cell_type": "code",
   "execution_count": 433,
   "id": "0ebce565",
   "metadata": {},
   "outputs": [],
   "source": [
    "#let's see how data looks for high-risk patients\n",
    "data_HR = data[data.probability>=0.85]\n",
    "                 "
   ]
  },
  {
   "cell_type": "code",
   "execution_count": 434,
   "id": "4ab3fc42",
   "metadata": {
    "scrolled": true
   },
   "outputs": [
    {
     "data": {
      "text/html": [
       "<div>\n",
       "<style scoped>\n",
       "    .dataframe tbody tr th:only-of-type {\n",
       "        vertical-align: middle;\n",
       "    }\n",
       "\n",
       "    .dataframe tbody tr th {\n",
       "        vertical-align: top;\n",
       "    }\n",
       "\n",
       "    .dataframe thead th {\n",
       "        text-align: right;\n",
       "    }\n",
       "</style>\n",
       "<table border=\"1\" class=\"dataframe\">\n",
       "  <thead>\n",
       "    <tr style=\"text-align: right;\">\n",
       "      <th></th>\n",
       "      <th>age</th>\n",
       "      <th>gender</th>\n",
       "      <th>BMI</th>\n",
       "      <th>systolic_blood_pressure</th>\n",
       "      <th>diastolic_blood_pressure</th>\n",
       "      <th>cholesterol</th>\n",
       "      <th>glucose_level</th>\n",
       "      <th>smoker</th>\n",
       "      <th>alcohol_consump</th>\n",
       "      <th>physical_activity</th>\n",
       "      <th>heart_disease</th>\n",
       "      <th>probability</th>\n",
       "    </tr>\n",
       "  </thead>\n",
       "  <tbody>\n",
       "    <tr>\n",
       "      <th>count</th>\n",
       "      <td>7842.000000</td>\n",
       "      <td>7842.000000</td>\n",
       "      <td>7842.000000</td>\n",
       "      <td>7842.000000</td>\n",
       "      <td>7842.000000</td>\n",
       "      <td>7842.000000</td>\n",
       "      <td>7842.000000</td>\n",
       "      <td>7842.000000</td>\n",
       "      <td>7842.000000</td>\n",
       "      <td>7842.000000</td>\n",
       "      <td>7842.000000</td>\n",
       "      <td>7842.000000</td>\n",
       "    </tr>\n",
       "    <tr>\n",
       "      <th>mean</th>\n",
       "      <td>54.449844</td>\n",
       "      <td>1.382938</td>\n",
       "      <td>0.777225</td>\n",
       "      <td>152.653532</td>\n",
       "      <td>92.248406</td>\n",
       "      <td>1.788574</td>\n",
       "      <td>1.191533</td>\n",
       "      <td>0.116807</td>\n",
       "      <td>0.069115</td>\n",
       "      <td>0.807192</td>\n",
       "      <td>0.928845</td>\n",
       "      <td>0.877617</td>\n",
       "    </tr>\n",
       "    <tr>\n",
       "      <th>std</th>\n",
       "      <td>6.902684</td>\n",
       "      <td>0.486134</td>\n",
       "      <td>0.416135</td>\n",
       "      <td>14.978400</td>\n",
       "      <td>9.442731</td>\n",
       "      <td>0.837632</td>\n",
       "      <td>0.507352</td>\n",
       "      <td>0.321211</td>\n",
       "      <td>0.253666</td>\n",
       "      <td>0.394529</td>\n",
       "      <td>0.257101</td>\n",
       "      <td>0.020585</td>\n",
       "    </tr>\n",
       "    <tr>\n",
       "      <th>min</th>\n",
       "      <td>39.115068</td>\n",
       "      <td>1.000000</td>\n",
       "      <td>0.000000</td>\n",
       "      <td>10.000000</td>\n",
       "      <td>8.000000</td>\n",
       "      <td>1.000000</td>\n",
       "      <td>1.000000</td>\n",
       "      <td>0.000000</td>\n",
       "      <td>0.000000</td>\n",
       "      <td>0.000000</td>\n",
       "      <td>0.000000</td>\n",
       "      <td>0.850000</td>\n",
       "    </tr>\n",
       "    <tr>\n",
       "      <th>25%</th>\n",
       "      <td>49.420548</td>\n",
       "      <td>1.000000</td>\n",
       "      <td>1.000000</td>\n",
       "      <td>140.000000</td>\n",
       "      <td>90.000000</td>\n",
       "      <td>1.000000</td>\n",
       "      <td>1.000000</td>\n",
       "      <td>0.000000</td>\n",
       "      <td>0.000000</td>\n",
       "      <td>1.000000</td>\n",
       "      <td>1.000000</td>\n",
       "      <td>0.860316</td>\n",
       "    </tr>\n",
       "    <tr>\n",
       "      <th>50%</th>\n",
       "      <td>54.765753</td>\n",
       "      <td>1.000000</td>\n",
       "      <td>1.000000</td>\n",
       "      <td>150.000000</td>\n",
       "      <td>90.000000</td>\n",
       "      <td>2.000000</td>\n",
       "      <td>1.000000</td>\n",
       "      <td>0.000000</td>\n",
       "      <td>0.000000</td>\n",
       "      <td>1.000000</td>\n",
       "      <td>1.000000</td>\n",
       "      <td>0.874420</td>\n",
       "    </tr>\n",
       "    <tr>\n",
       "      <th>75%</th>\n",
       "      <td>60.257534</td>\n",
       "      <td>2.000000</td>\n",
       "      <td>1.000000</td>\n",
       "      <td>160.000000</td>\n",
       "      <td>100.000000</td>\n",
       "      <td>3.000000</td>\n",
       "      <td>1.000000</td>\n",
       "      <td>0.000000</td>\n",
       "      <td>0.000000</td>\n",
       "      <td>1.000000</td>\n",
       "      <td>1.000000</td>\n",
       "      <td>0.890081</td>\n",
       "    </tr>\n",
       "    <tr>\n",
       "      <th>max</th>\n",
       "      <td>64.904110</td>\n",
       "      <td>2.000000</td>\n",
       "      <td>1.000000</td>\n",
       "      <td>240.000000</td>\n",
       "      <td>190.000000</td>\n",
       "      <td>3.000000</td>\n",
       "      <td>3.000000</td>\n",
       "      <td>1.000000</td>\n",
       "      <td>1.000000</td>\n",
       "      <td>1.000000</td>\n",
       "      <td>1.000000</td>\n",
       "      <td>0.965331</td>\n",
       "    </tr>\n",
       "  </tbody>\n",
       "</table>\n",
       "</div>"
      ],
      "text/plain": [
       "               age       gender          BMI  systolic_blood_pressure  \\\n",
       "count  7842.000000  7842.000000  7842.000000              7842.000000   \n",
       "mean     54.449844     1.382938     0.777225               152.653532   \n",
       "std       6.902684     0.486134     0.416135                14.978400   \n",
       "min      39.115068     1.000000     0.000000                10.000000   \n",
       "25%      49.420548     1.000000     1.000000               140.000000   \n",
       "50%      54.765753     1.000000     1.000000               150.000000   \n",
       "75%      60.257534     2.000000     1.000000               160.000000   \n",
       "max      64.904110     2.000000     1.000000               240.000000   \n",
       "\n",
       "       diastolic_blood_pressure  cholesterol  glucose_level       smoker  \\\n",
       "count               7842.000000  7842.000000    7842.000000  7842.000000   \n",
       "mean                  92.248406     1.788574       1.191533     0.116807   \n",
       "std                    9.442731     0.837632       0.507352     0.321211   \n",
       "min                    8.000000     1.000000       1.000000     0.000000   \n",
       "25%                   90.000000     1.000000       1.000000     0.000000   \n",
       "50%                   90.000000     2.000000       1.000000     0.000000   \n",
       "75%                  100.000000     3.000000       1.000000     0.000000   \n",
       "max                  190.000000     3.000000       3.000000     1.000000   \n",
       "\n",
       "       alcohol_consump  physical_activity  heart_disease  probability  \n",
       "count      7842.000000        7842.000000    7842.000000  7842.000000  \n",
       "mean          0.069115           0.807192       0.928845     0.877617  \n",
       "std           0.253666           0.394529       0.257101     0.020585  \n",
       "min           0.000000           0.000000       0.000000     0.850000  \n",
       "25%           0.000000           1.000000       1.000000     0.860316  \n",
       "50%           0.000000           1.000000       1.000000     0.874420  \n",
       "75%           0.000000           1.000000       1.000000     0.890081  \n",
       "max           1.000000           1.000000       1.000000     0.965331  "
      ]
     },
     "execution_count": 434,
     "metadata": {},
     "output_type": "execute_result"
    }
   ],
   "source": [
    "data_HR.describe()"
   ]
  },
  {
   "cell_type": "code",
   "execution_count": 435,
   "id": "7551b84b",
   "metadata": {},
   "outputs": [
    {
     "data": {
      "text/html": [
       "<div>\n",
       "<style scoped>\n",
       "    .dataframe tbody tr th:only-of-type {\n",
       "        vertical-align: middle;\n",
       "    }\n",
       "\n",
       "    .dataframe tbody tr th {\n",
       "        vertical-align: top;\n",
       "    }\n",
       "\n",
       "    .dataframe thead th {\n",
       "        text-align: right;\n",
       "    }\n",
       "</style>\n",
       "<table border=\"1\" class=\"dataframe\">\n",
       "  <thead>\n",
       "    <tr style=\"text-align: right;\">\n",
       "      <th></th>\n",
       "      <th>age</th>\n",
       "      <th>gender</th>\n",
       "      <th>BMI</th>\n",
       "      <th>systolic_blood_pressure</th>\n",
       "      <th>diastolic_blood_pressure</th>\n",
       "      <th>cholesterol</th>\n",
       "      <th>glucose_level</th>\n",
       "      <th>smoker</th>\n",
       "      <th>alcohol_consump</th>\n",
       "      <th>physical_activity</th>\n",
       "      <th>heart_disease</th>\n",
       "      <th>probability</th>\n",
       "    </tr>\n",
       "  </thead>\n",
       "  <tbody>\n",
       "    <tr>\n",
       "      <th>0</th>\n",
       "      <td>64.147945</td>\n",
       "      <td>1</td>\n",
       "      <td>1</td>\n",
       "      <td>150</td>\n",
       "      <td>90</td>\n",
       "      <td>1</td>\n",
       "      <td>1</td>\n",
       "      <td>0</td>\n",
       "      <td>0</td>\n",
       "      <td>1</td>\n",
       "      <td>1</td>\n",
       "      <td>0.859238</td>\n",
       "    </tr>\n",
       "  </tbody>\n",
       "</table>\n",
       "</div>"
      ],
      "text/plain": [
       "         age  gender  BMI  systolic_blood_pressure  diastolic_blood_pressure  \\\n",
       "0  64.147945       1    1                      150                        90   \n",
       "\n",
       "   cholesterol  glucose_level  smoker  alcohol_consump  physical_activity  \\\n",
       "0            1              1       0                0                  1   \n",
       "\n",
       "   heart_disease  probability  \n",
       "0              1     0.859238  "
      ]
     },
     "execution_count": 435,
     "metadata": {},
     "output_type": "execute_result"
    }
   ],
   "source": [
    "data_HR.mode()"
   ]
  },
  {
   "cell_type": "code",
   "execution_count": 436,
   "id": "8d250e28",
   "metadata": {},
   "outputs": [],
   "source": [
    "#data for patients with medium risk\n",
    "data_MR=data[(data.probability<0.85)&(data.probability>0.60)]"
   ]
  },
  {
   "cell_type": "code",
   "execution_count": 437,
   "id": "c04276df",
   "metadata": {},
   "outputs": [
    {
     "data": {
      "text/html": [
       "<div>\n",
       "<style scoped>\n",
       "    .dataframe tbody tr th:only-of-type {\n",
       "        vertical-align: middle;\n",
       "    }\n",
       "\n",
       "    .dataframe tbody tr th {\n",
       "        vertical-align: top;\n",
       "    }\n",
       "\n",
       "    .dataframe thead th {\n",
       "        text-align: right;\n",
       "    }\n",
       "</style>\n",
       "<table border=\"1\" class=\"dataframe\">\n",
       "  <thead>\n",
       "    <tr style=\"text-align: right;\">\n",
       "      <th></th>\n",
       "      <th>age</th>\n",
       "      <th>gender</th>\n",
       "      <th>BMI</th>\n",
       "      <th>systolic_blood_pressure</th>\n",
       "      <th>diastolic_blood_pressure</th>\n",
       "      <th>cholesterol</th>\n",
       "      <th>glucose_level</th>\n",
       "      <th>smoker</th>\n",
       "      <th>alcohol_consump</th>\n",
       "      <th>physical_activity</th>\n",
       "      <th>heart_disease</th>\n",
       "      <th>probability</th>\n",
       "    </tr>\n",
       "  </thead>\n",
       "  <tbody>\n",
       "    <tr>\n",
       "      <th>0</th>\n",
       "      <td>59.909589</td>\n",
       "      <td>1</td>\n",
       "      <td>1</td>\n",
       "      <td>140</td>\n",
       "      <td>90</td>\n",
       "      <td>1</td>\n",
       "      <td>1</td>\n",
       "      <td>0</td>\n",
       "      <td>0</td>\n",
       "      <td>1</td>\n",
       "      <td>1</td>\n",
       "      <td>0.833868</td>\n",
       "    </tr>\n",
       "  </tbody>\n",
       "</table>\n",
       "</div>"
      ],
      "text/plain": [
       "         age  gender  BMI  systolic_blood_pressure  diastolic_blood_pressure  \\\n",
       "0  59.909589       1    1                      140                        90   \n",
       "\n",
       "   cholesterol  glucose_level  smoker  alcohol_consump  physical_activity  \\\n",
       "0            1              1       0                0                  1   \n",
       "\n",
       "   heart_disease  probability  \n",
       "0              1     0.833868  "
      ]
     },
     "execution_count": 437,
     "metadata": {},
     "output_type": "execute_result"
    }
   ],
   "source": [
    "data_MR.mode()"
   ]
  },
  {
   "cell_type": "code",
   "execution_count": null,
   "id": "8bf74b41",
   "metadata": {},
   "outputs": [],
   "source": []
  },
  {
   "cell_type": "code",
   "execution_count": null,
   "id": "f23e9b7d",
   "metadata": {},
   "outputs": [],
   "source": []
  },
  {
   "cell_type": "code",
   "execution_count": null,
   "id": "1d7104bf",
   "metadata": {},
   "outputs": [],
   "source": []
  }
 ],
 "metadata": {
  "kernelspec": {
   "display_name": "Python 3 (ipykernel)",
   "language": "python",
   "name": "python3"
  },
  "language_info": {
   "codemirror_mode": {
    "name": "ipython",
    "version": 3
   },
   "file_extension": ".py",
   "mimetype": "text/x-python",
   "name": "python",
   "nbconvert_exporter": "python",
   "pygments_lexer": "ipython3",
   "version": "3.8.10"
  }
 },
 "nbformat": 4,
 "nbformat_minor": 5
}
